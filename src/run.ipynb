{
 "cells": [
  {
   "cell_type": "code",
   "execution_count": null,
   "metadata": {},
   "outputs": [],
   "source": [
    "import os\n",
    "from cornac.models import NeuMF, WMF, HPF, VAECF, BiVAECF\n",
    "from cornac.metrics import Recall, NDCG, AUC, MAP, MRR\n",
    "\n",
    "from experiment import Experiment\n",
    "from extension_proportional import ExtensionProportional"
   ]
  },
  {
   "cell_type": "code",
   "execution_count": null,
   "metadata": {},
   "outputs": [],
   "source": [
    "experiment = Experiment(\n",
    "    os.getcwd() + '/table_reproduction.yaml',\n",
    "    models=[\n",
    "            HPF(k=50, seed=123, hierarchical=False, name=\"PF\"),\n",
    "            WMF(k=50, max_iter=50, learning_rate=0.001, lambda_u=0.01, lambda_v=0.01, verbose=True, seed=123),\n",
    "            NeuMF(num_factors=9, layers=[32, 16, 8], act_fn=\"tanh\", num_epochs=5, num_neg=3, batch_size=256, lr=0.001, seed=43, verbose=True),\n",
    "            VAECF(k=10, autoencoder_structure=[20], act_fn=\"tanh\", likelihood=\"mult\", n_epochs=100, batch_size=100, learning_rate=0.001, beta=1.0, seed=123, use_gpu=True, verbose=True)\n",
    "        ],\n",
    "        metrics=[\n",
    "            AUC(), MAP(), MRR(), NDCG(k=10), Recall(k=10)\n",
    "        ]\n",
    "    )\n",
    "experiment.run_experiment()"
   ]
  },
  {
   "cell_type": "code",
   "execution_count": null,
   "metadata": {},
   "outputs": [],
   "source": [
    "from experiment_dcg_change import ExperimentDCG\n",
    "\n",
    "experiment = ExperimentDCG(\n",
    "    os.getcwd() + '/table_dcg_change.yaml',\n",
    "    models=[\n",
    "            HPF(k=50, seed=123, hierarchical=False, name=\"PF\"),\n",
    "            WMF(k=50, max_iter=50, learning_rate=0.001, lambda_u=0.01, lambda_v=0.01, verbose=True, seed=123),\n",
    "            NeuMF(num_factors=9, layers=[32, 16, 8], act_fn=\"tanh\", num_epochs=5, num_neg=3, batch_size=256, lr=0.001, seed=43, verbose=True),\n",
    "            BiVAECF()\n",
    "        ],\n",
    "        metrics=[\n",
    "            AUC(), MAP(), MRR(), NDCG(k=10), Recall(k=10)\n",
    "        ]\n",
    "    )\n",
    "experiment.run_experiment()"
   ]
  },
  {
   "cell_type": "code",
   "execution_count": null,
   "metadata": {},
   "outputs": [],
   "source": [
    "experiment = ExtensionProportional(\n",
    "    os.getcwd() + '/table_proportional.yaml',\n",
    "    models=[\n",
    "            HPF(k=50, seed=123, hierarchical=False, name=\"PF\"),\n",
    "            WMF(k=50, max_iter=50, learning_rate=0.001, lambda_u=0.01, lambda_v=0.01, verbose=True, seed=123),\n",
    "            NeuMF(num_factors=9, layers=[32, 16, 8], act_fn=\"tanh\", num_epochs=5, num_neg=3, batch_size=256, lr=0.001, seed=43, verbose=True),\n",
    "            BiVAECF()\n",
    "        ],\n",
    "        metrics=[\n",
    "            AUC(), MAP(), MRR(), NDCG(k=10), Recall(k=10)\n",
    "        ]\n",
    "    )\n",
    "experiment.run_experiment()"
   ]
  }
 ],
 "metadata": {
  "kernelspec": {
   "display_name": "recsys2",
   "language": "python",
   "name": "python3"
  },
  "language_info": {
   "codemirror_mode": {
    "name": "ipython",
    "version": 3
   },
   "file_extension": ".py",
   "mimetype": "text/x-python",
   "name": "python",
   "nbconvert_exporter": "python",
   "pygments_lexer": "ipython3",
   "version": "3.7.0"
  },
  "orig_nbformat": 4
 },
 "nbformat": 4,
 "nbformat_minor": 2
}
