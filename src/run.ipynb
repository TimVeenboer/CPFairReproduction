{
 "cells": [
  {
   "cell_type": "code",
   "execution_count": 1,
   "metadata": {},
   "outputs": [],
   "source": [
    "import os\n",
    "from cornac.models import MostPop, UserKNN, ItemKNN, MF, PMF, BPR, NeuMF, WMF, HPF, CVAE, VAECF, NMF\n",
    "from cornac.metrics import Precision, Recall, NDCG, AUC, MAP, FMeasure, MRR\n",
    "\n",
    "from experiment import Experiment"
   ]
  },
  {
   "cell_type": "code",
   "execution_count": 2,
   "metadata": {},
   "outputs": [
    {
     "name": "stdout",
     "output_type": "stream",
     "text": [
      "Directory 'datasets/Gowalla' is exist.\n",
      "Gowalla: The train, tune, and test sets downloaded.\n",
      "Directory 'datasets/Epinion' is exist.\n",
      "Epinion: The train, tune, and test sets downloaded.\n",
      "Directory 'user_groups/Gowalla/005' is exist.\n"
     ]
    },
    {
     "name": "stderr",
     "output_type": "stream",
     "text": [
      "File ‘datasets/Gowalla/Gowalla_train.txt’ already there; not retrieving.\n",
      "\n",
      "File ‘datasets/Gowalla/Gowalla_test.txt’ already there; not retrieving.\n",
      "\n",
      "File ‘datasets/Gowalla/Gowalla_tune.txt’ already there; not retrieving.\n",
      "\n",
      "File ‘datasets/Epinion/Epinion_train.txt’ already there; not retrieving.\n",
      "\n",
      "File ‘datasets/Epinion/Epinion_test.txt’ already there; not retrieving.\n",
      "\n",
      "File ‘datasets/Epinion/Epinion_tune.txt’ already there; not retrieving.\n",
      "\n",
      "--2023-06-12 14:02:13--  https://raw.githubusercontent.com/rahmanidashti/CPFairRecSys/main/datasets/Gowalla/groups/users/005/active_ids.txt\n",
      "Resolving raw.githubusercontent.com (raw.githubusercontent.com)... 185.199.111.133, 185.199.110.133, 185.199.108.133, ...\n",
      "Connecting to raw.githubusercontent.com (raw.githubusercontent.com)|185.199.111.133|:443... connected.\n",
      "HTTP request sent, awaiting response... 200 OK\n",
      "Length: 213 [text/plain]\n",
      "Saving to: ‘user_groups/Gowalla/005/active_ids.txt.23’\n",
      "\n",
      "     0K                                                       100% 5,45M=0s\n",
      "\n",
      "2023-06-12 14:02:13 (5,45 MB/s) - ‘user_groups/Gowalla/005/active_ids.txt.23’ saved [213/213]\n",
      "\n",
      "--2023-06-12 14:02:13--  https://raw.githubusercontent.com/rahmanidashti/CPFairRecSys/main/datasets/Gowalla/groups/users/005/inactive_ids.txt\n",
      "Resolving raw.githubusercontent.com (raw.githubusercontent.com)... 185.199.111.133, 185.199.110.133, 185.199.108.133, ...\n",
      "Connecting to raw.githubusercontent.com (raw.githubusercontent.com)|185.199.111.133|:443... connected.\n",
      "HTTP request sent, awaiting response... 200 OK\n",
      "Length: 4327 (4,2K) [text/plain]\n",
      "Saving to: ‘user_groups/Gowalla/005/inactive_ids.txt.23’\n",
      "\n",
      "     0K ....                                                  100% 19,0M=0s\n",
      "\n",
      "2023-06-12 14:02:13 (19,0 MB/s) - ‘user_groups/Gowalla/005/inactive_ids.txt.23’ saved [4327/4327]\n",
      "\n",
      "--2023-06-12 14:02:13--  https://raw.githubusercontent.com/rahmanidashti/CPFairRecSys/main/datasets/Epinion/groups/users/005/active_ids.txt\n",
      "Resolving raw.githubusercontent.com (raw.githubusercontent.com)... 185.199.111.133, 185.199.110.133, 185.199.108.133, ...\n",
      "Connecting to raw.githubusercontent.com (raw.githubusercontent.com)|185.199.111.133|:443... connected.\n",
      "HTTP request sent, awaiting response... 200 OK\n",
      "Length: 561 [text/plain]\n",
      "Saving to: ‘user_groups/Epinion/005/active_ids.txt.16’\n",
      "\n",
      "     0K                                                       100% 12,0M=0s\n",
      "\n",
      "2023-06-12 14:02:14 (12,0 MB/s) - ‘user_groups/Epinion/005/active_ids.txt.16’ saved [561/561]\n",
      "\n",
      "--2023-06-12 14:02:14--  https://raw.githubusercontent.com/rahmanidashti/CPFairRecSys/main/datasets/Epinion/groups/users/005/inactive_ids.txt\n",
      "Resolving raw.githubusercontent.com (raw.githubusercontent.com)... 185.199.111.133, 185.199.110.133, 185.199.108.133, ...\n",
      "Connecting to raw.githubusercontent.com (raw.githubusercontent.com)|185.199.111.133|:443... connected.\n",
      "HTTP request sent, awaiting response... 200 OK\n",
      "Length: 11714 (11K) [text/plain]\n",
      "Saving to: ‘user_groups/Epinion/005/inactive_ids.txt.16’\n",
      "\n",
      "     0K .......... .                                          100% 22,6M=0s\n",
      "\n",
      "2023-06-12 14:02:14 (22,6 MB/s) - ‘user_groups/Epinion/005/inactive_ids.txt.16’ saved [11714/11714]\n",
      "\n",
      "File ‘item_groups/Gowalla/020/shorthead_items.txt’ already there; not retrieving.\n",
      "\n",
      "File ‘item_groups/Gowalla/020/longtail_items.txt’ already there; not retrieving.\n",
      "\n",
      "File ‘item_groups/Epinion/020/shorthead_items.txt’ already there; not retrieving.\n",
      "\n"
     ]
    },
    {
     "name": "stdout",
     "output_type": "stream",
     "text": [
      "Gowalla: User groups on '005' downloaded.\n",
      "Directory 'user_groups/Epinion/005' is exist.\n",
      "Epinion: User groups on '005' downloaded.\n",
      "Directory 'item_groups/Gowalla/020' is exist.\n",
      "Gowalla: Item groups on '020' downloaded.\n",
      "Directory 'item_groups/Epinion/020' is exist.\n",
      "Epinion: Item groups on '020' downloaded.\n",
      "Datasets: Gowalla\n"
     ]
    },
    {
     "name": "stderr",
     "output_type": "stream",
     "text": [
      "File ‘item_groups/Epinion/020/longtail_items.txt’ already there; not retrieving.\n",
      "\n"
     ]
    },
    {
     "name": "stdout",
     "output_type": "stream",
     "text": [
      "rating_threshold = 1.0\n",
      "exclude_unknowns = True\n",
      "---\n",
      "Training data:\n",
      "Number of users = 1130\n",
      "Number of items = 1189\n",
      "Number of ratings = 46371\n",
      "Max rating = 215.0\n",
      "Min rating = 1.0\n",
      "Global mean = 1.8\n",
      "---\n",
      "Test data:\n",
      "Number of users = 1130\n",
      "Number of items = 1188\n",
      "Number of ratings = 13249\n",
      "Number of unknown users = 0\n",
      "Number of unknown items = 0\n",
      "---\n",
      "Total users = 1130\n",
      "Total items = 1189\n",
      "\n",
      "[WMF] Training started!\n"
     ]
    },
    {
     "data": {
      "application/vnd.jupyter.widget-view+json": {
       "model_id": "5873ff9e76cf4fbf93f3015c96a8b2a8",
       "version_major": 2,
       "version_minor": 0
      },
      "text/plain": [
       "  0%|          | 0/50 [00:00<?, ?it/s]"
      ]
     },
     "metadata": {},
     "output_type": "display_data"
    },
    {
     "name": "stdout",
     "output_type": "stream",
     "text": [
      "Learning completed!\n",
      "\n",
      "[WMF] Evaluation started!\n"
     ]
    },
    {
     "data": {
      "application/vnd.jupyter.widget-view+json": {
       "model_id": "89d75f310413466f913488a664b487c4",
       "version_major": 2,
       "version_minor": 0
      },
      "text/plain": [
       "Ranking:   0%|          | 0/1130 [00:00<?, ?it/s]"
      ]
     },
     "metadata": {},
     "output_type": "display_data"
    },
    {
     "name": "stdout",
     "output_type": "stream",
     "text": [
      "\n",
      "[PF] Training started!\n",
      "Learning...\n",
      "Learning completed!\n",
      "\n",
      "[PF] Evaluation started!\n"
     ]
    },
    {
     "data": {
      "application/vnd.jupyter.widget-view+json": {
       "model_id": "c2537c40a3a54b258047f27fff2f1bcf",
       "version_major": 2,
       "version_minor": 0
      },
      "text/plain": [
       "Ranking:   0%|          | 0/1130 [00:00<?, ?it/s]"
      ]
     },
     "metadata": {},
     "output_type": "display_data"
    },
    {
     "name": "stdout",
     "output_type": "stream",
     "text": [
      "\n",
      "[VAECF] Training started!\n"
     ]
    },
    {
     "data": {
      "application/vnd.jupyter.widget-view+json": {
       "model_id": "806b76162c3e41de8ec2d953629d8fab",
       "version_major": 2,
       "version_minor": 0
      },
      "text/plain": [
       "  0%|          | 0/100 [00:00<?, ?it/s]"
      ]
     },
     "metadata": {},
     "output_type": "display_data"
    },
    {
     "name": "stdout",
     "output_type": "stream",
     "text": [
      "\n",
      "[VAECF] Evaluation started!\n"
     ]
    },
    {
     "data": {
      "application/vnd.jupyter.widget-view+json": {
       "model_id": "530bb603f6af4955861362881a1903e9",
       "version_major": 2,
       "version_minor": 0
      },
      "text/plain": [
       "Ranking:   0%|          | 0/1130 [00:00<?, ?it/s]"
      ]
     },
     "metadata": {},
     "output_type": "display_data"
    },
    {
     "name": "stdout",
     "output_type": "stream",
     "text": [
      "\n",
      "[NeuMF] Training started!\n"
     ]
    },
    {
     "data": {
      "application/vnd.jupyter.widget-view+json": {
       "model_id": "d0452166f8d046a48569f63ff20950b3",
       "version_major": 2,
       "version_minor": 0
      },
      "text/plain": [
       "  0%|          | 0/5 [00:00<?, ?it/s]"
      ]
     },
     "metadata": {},
     "output_type": "display_data"
    },
    {
     "name": "stdout",
     "output_type": "stream",
     "text": [
      "\n",
      "[NeuMF] Evaluation started!\n"
     ]
    },
    {
     "data": {
      "application/vnd.jupyter.widget-view+json": {
       "model_id": "aa026cf110754b28977bba217900ade4",
       "version_major": 2,
       "version_minor": 0
      },
      "text/plain": [
       "Ranking:   0%|          | 0/1130 [00:00<?, ?it/s]"
      ]
     },
     "metadata": {},
     "output_type": "display_data"
    },
    {
     "name": "stdout",
     "output_type": "stream",
     "text": [
      "\n",
      "TEST:\n",
      "...\n",
      "      |    AUC |    MAP |    MRR | NDCG@10 | Recall@10 | Train (s) | Test (s)\n",
      "----- + ------ + ------ + ------ + ------- + --------- + --------- + --------\n",
      "WMF   | 0.7656 | 0.0424 | 0.1004 |  0.0373 |    0.0382 |    3.7563 |   6.9104\n",
      "PF    | 0.8242 | 0.0724 | 0.2028 |  0.0827 |    0.0753 |   40.6370 |   6.5108\n",
      "VAECF | 0.8460 | 0.0912 | 0.2741 |  0.1117 |    0.0937 |   10.7952 |   2.1692\n",
      "NeuMF | 0.8127 | 0.0789 | 0.2603 |  0.1048 |    0.0854 |   21.1005 |   2.0084\n",
      "\n",
      "ActiveU: 56,                       InActive: 1074,                         All: 1130\n",
      "No. of Shorthead Items: 238                           and No. of Longtaill Items: 951\n",
      "> Model: WMF\n",
      "WMF\n"
     ]
    },
    {
     "data": {
      "application/vnd.jupyter.widget-view+json": {
       "model_id": "0b5a35b09e8f43c9bf0aa9d222c861f5",
       "version_major": 2,
       "version_minor": 0
      },
      "text/plain": [
       "  0%|          | 0/1130 [00:00<?, ?it/s]"
      ]
     },
     "metadata": {},
     "output_type": "display_data"
    },
    {
     "data": {
      "application/vnd.jupyter.widget-view+json": {
       "model_id": "6bc2f7cfc1374f548cb06a8e50a17eae",
       "version_major": 2,
       "version_minor": 0
      },
      "text/plain": [
       "  0%|          | 0/1130 [00:00<?, ?it/s]"
      ]
     },
     "metadata": {},
     "output_type": "display_data"
    },
    {
     "name": "stdout",
     "output_type": "stream",
     "text": [
      "Runing fairness optimisation on 'N', None, None\n",
      "Set parameter WLSAccessID\n",
      "Set parameter WLSSecret\n",
      "Set parameter LicenseID to value 2384212\n",
      "Academic license - for non-commercial use only - registered to timvnb@gmail.com\n",
      "Warning for adding constraints: zero or small (< 1e-13) coefficients, ignored\n",
      "Set parameter NodeLimit to value 1073741824\n",
      "Set parameter SolutionLimit to value 1073741824\n",
      "Set parameter IntFeasTol to value 1e-06\n",
      "Set parameter Method to value 3\n",
      "Gurobi Optimizer version 10.0.1 build v10.0.1rc0 (linux64)\n",
      "\n",
      "CPU model: Intel(R) Core(TM) i7-8750H CPU @ 2.20GHz, instruction set [SSE2|AVX|AVX2]\n",
      "Thread count: 6 physical cores, 12 logical processors, using up to 12 threads\n",
      "\n",
      "Academic license - for non-commercial use only - registered to timvnb@gmail.com\n",
      "Optimize a model with 62158 rows, 61028 columns and 208947 nonzeros\n",
      "Model fingerprint: 0x719fe5be\n",
      "Coefficient statistics:\n",
      "  Matrix range     [5e-03, 1e+00]\n",
      "  Objective range  [7e-06, 3e+00]\n",
      "  Bounds range     [0e+00, 0e+00]\n",
      "  RHS range        [1e+00, 1e+01]\n",
      "Presolve removed 61028 rows and 4528 columns\n",
      "Presolve time: 0.09s\n",
      "Presolved: 1130 rows, 56500 columns, 56500 nonzeros\n",
      "\n",
      "Concurrent LP optimizer: primal simplex, dual simplex, and barrier\n",
      "Showing barrier log only...\n",
      "\n",
      "Ordering time: 0.00s\n",
      "\n",
      "Barrier statistics:\n",
      " AA' NZ     : 0.000e+00\n",
      " Factor NZ  : 1.130e+03 (roughly 23 MB of memory)\n",
      " Factor Ops : 1.130e+03 (less than 1 second per iteration)\n",
      " Threads    : 1\n",
      "\n",
      "                  Objective                Residual\n",
      "Iter       Primal          Dual         Primal    Dual     Compl     Time\n",
      "   0   9.11400890e+04  1.58160661e+05  7.91e+01 7.11e-15  8.72e+01     0s\n",
      "\n",
      "Barrier performed 0 iterations in 0.12 seconds (0.08 work units)\n",
      "Barrier solve interrupted - model solved by another algorithm\n",
      "\n",
      "\n",
      "Solved with dual simplex\n",
      "Iteration    Objective       Primal Inf.    Dual Inf.      Time\n",
      "    1130    1.5759158e+04   0.000000e+00   0.000000e+00      0s\n",
      "\n",
      "Solved in 1130 iterations and 0.16 seconds (0.09 work units)\n",
      "Optimal objective  1.575915807e+04\n"
     ]
    },
    {
     "data": {
      "application/vnd.jupyter.widget-view+json": {
       "model_id": "92aacd70c42e44099e8e2f4459ee6e99",
       "version_major": 2,
       "version_minor": 0
      },
      "text/plain": [
       "  0%|          | 0/56 [00:00<?, ?it/s]"
      ]
     },
     "metadata": {},
     "output_type": "display_data"
    },
    {
     "data": {
      "application/vnd.jupyter.widget-view+json": {
       "model_id": "dbf4fa38c089473b8744040e5da2ed60",
       "version_major": 2,
       "version_minor": 0
      },
      "text/plain": [
       "  0%|          | 0/1074 [00:00<?, ?it/s]"
      ]
     },
     "metadata": {},
     "output_type": "display_data"
    },
    {
     "data": {
      "application/vnd.jupyter.widget-view+json": {
       "model_id": "2f02a8676a8743cb8a2fe851c0943599",
       "version_major": 2,
       "version_minor": 0
      },
      "text/plain": [
       "  0%|          | 0/1130 [00:00<?, ?it/s]"
      ]
     },
     "metadata": {},
     "output_type": "display_data"
    },
    {
     "name": "stdout",
     "output_type": "stream",
     "text": [
      "Runing fairness optimisation on 'C', 0.05, None\n",
      "Set parameter WLSAccessID\n",
      "Set parameter WLSSecret\n",
      "Set parameter LicenseID to value 2384212\n",
      "Academic license - for non-commercial use only - registered to timvnb@gmail.com\n",
      "Warning for adding constraints: zero or small (< 1e-13) coefficients, ignored\n",
      "Set parameter NodeLimit to value 1073741824\n",
      "Set parameter SolutionLimit to value 1073741824\n",
      "Set parameter IntFeasTol to value 1e-06\n",
      "Set parameter Method to value 3\n",
      "Gurobi Optimizer version 10.0.1 build v10.0.1rc0 (linux64)\n",
      "\n",
      "CPU model: Intel(R) Core(TM) i7-8750H CPU @ 2.20GHz, instruction set [SSE2|AVX|AVX2]\n",
      "Thread count: 6 physical cores, 12 logical processors, using up to 12 threads\n",
      "\n",
      "Academic license - for non-commercial use only - registered to timvnb@gmail.com\n",
      "Optimize a model with 62158 rows, 61028 columns and 208947 nonzeros\n",
      "Model fingerprint: 0x366611f5\n",
      "Coefficient statistics:\n",
      "  Matrix range     [5e-03, 1e+00]\n",
      "  Objective range  [7e-06, 3e+00]\n",
      "  Bounds range     [0e+00, 0e+00]\n",
      "  RHS range        [1e+00, 1e+01]\n",
      "Presolve removed 61028 rows and 4528 columns\n",
      "Presolve time: 0.09s\n",
      "Presolved: 1130 rows, 56500 columns, 56500 nonzeros\n",
      "\n",
      "Concurrent LP optimizer: primal simplex, dual simplex, and barrier\n",
      "Showing barrier log only...\n",
      "\n",
      "Ordering time: 0.00s\n",
      "\n",
      "Barrier statistics:\n",
      " AA' NZ     : 0.000e+00\n",
      " Factor NZ  : 1.130e+03 (roughly 23 MB of memory)\n",
      " Factor Ops : 1.130e+03 (less than 1 second per iteration)\n",
      " Threads    : 1\n",
      "\n",
      "                  Objective                Residual\n",
      "Iter       Primal          Dual         Primal    Dual     Compl     Time\n",
      "   0   9.03995287e+04  1.58804421e+05  7.91e+01 1.13e-14  8.76e+01     0s\n",
      "   1   1.09314517e+04  8.67000644e+04  6.57e-14 3.91e-14  1.07e+01     0s\n",
      "\n",
      "Barrier performed 1 iterations in 0.12 seconds (0.09 work units)\n",
      "Barrier solve interrupted - model solved by another algorithm\n",
      "\n",
      "\n",
      "Solved with dual simplex\n",
      "Iteration    Objective       Primal Inf.    Dual Inf.      Time\n",
      "    1130    1.5676909e+04   0.000000e+00   0.000000e+00      0s\n",
      "\n",
      "Solved in 1130 iterations and 0.17 seconds (0.09 work units)\n",
      "Optimal objective  1.567690935e+04\n"
     ]
    },
    {
     "data": {
      "application/vnd.jupyter.widget-view+json": {
       "model_id": "217f0102ae1243b68a4ac55f59b08790",
       "version_major": 2,
       "version_minor": 0
      },
      "text/plain": [
       "  0%|          | 0/56 [00:00<?, ?it/s]"
      ]
     },
     "metadata": {},
     "output_type": "display_data"
    },
    {
     "data": {
      "application/vnd.jupyter.widget-view+json": {
       "model_id": "cffe52bf57ee4e12832eac4780ecf228",
       "version_major": 2,
       "version_minor": 0
      },
      "text/plain": [
       "  0%|          | 0/1074 [00:00<?, ?it/s]"
      ]
     },
     "metadata": {},
     "output_type": "display_data"
    },
    {
     "data": {
      "application/vnd.jupyter.widget-view+json": {
       "model_id": "076c24a5caa34b7093066586a956fc56",
       "version_major": 2,
       "version_minor": 0
      },
      "text/plain": [
       "  0%|          | 0/1130 [00:00<?, ?it/s]"
      ]
     },
     "metadata": {},
     "output_type": "display_data"
    },
    {
     "name": "stdout",
     "output_type": "stream",
     "text": [
      "Runing fairness optimisation on 'P', None, 0.05\n",
      "Set parameter WLSAccessID\n",
      "Set parameter WLSSecret\n",
      "Set parameter LicenseID to value 2384212\n",
      "Academic license - for non-commercial use only - registered to timvnb@gmail.com\n",
      "Warning for adding constraints: zero or small (< 1e-13) coefficients, ignored\n",
      "Set parameter NodeLimit to value 1073741824\n",
      "Set parameter SolutionLimit to value 1073741824\n",
      "Set parameter IntFeasTol to value 1e-06\n",
      "Set parameter Method to value 3\n",
      "Gurobi Optimizer version 10.0.1 build v10.0.1rc0 (linux64)\n",
      "\n",
      "CPU model: Intel(R) Core(TM) i7-8750H CPU @ 2.20GHz, instruction set [SSE2|AVX|AVX2]\n",
      "Thread count: 6 physical cores, 12 logical processors, using up to 12 threads\n",
      "\n",
      "Academic license - for non-commercial use only - registered to timvnb@gmail.com\n",
      "Optimize a model with 62158 rows, 61028 columns and 208947 nonzeros\n",
      "Model fingerprint: 0x220a9f92\n",
      "Coefficient statistics:\n",
      "  Matrix range     [5e-03, 1e+00]\n",
      "  Objective range  [7e-06, 3e+00]\n",
      "  Bounds range     [0e+00, 0e+00]\n",
      "  RHS range        [1e+00, 1e+01]\n",
      "Presolve removed 61028 rows and 4528 columns\n",
      "Presolve time: 0.07s\n",
      "Presolved: 1130 rows, 56500 columns, 56500 nonzeros\n",
      "\n",
      "Concurrent LP optimizer: primal simplex, dual simplex, and barrier\n",
      "Showing barrier log only...\n",
      "\n",
      "Ordering time: 0.00s\n",
      "\n",
      "Barrier statistics:\n",
      " AA' NZ     : 0.000e+00\n",
      " Factor NZ  : 1.130e+03 (roughly 23 MB of memory)\n",
      " Factor Ops : 1.130e+03 (less than 1 second per iteration)\n",
      " Threads    : 1\n",
      "\n",
      "                  Objective                Residual\n",
      "Iter       Primal          Dual         Primal    Dual     Compl     Time\n",
      "   0   9.04482580e+04  1.58044693e+05  7.91e+01 5.77e-15  4.36e+01     0s\n",
      "   1   1.09493862e+04  8.63172231e+04  9.41e-14 2.13e-14  5.34e+00     0s\n",
      "\n",
      "Barrier performed 1 iterations in 0.11 seconds (0.09 work units)\n",
      "Barrier solve interrupted - model solved by another algorithm\n",
      "\n",
      "\n",
      "Solved with dual simplex\n",
      "Iteration    Objective       Primal Inf.    Dual Inf.      Time\n",
      "    1130    1.5729007e+04   0.000000e+00   0.000000e+00      0s\n",
      "\n",
      "Solved in 1130 iterations and 0.14 seconds (0.09 work units)\n",
      "Optimal objective  1.572900675e+04\n"
     ]
    },
    {
     "data": {
      "application/vnd.jupyter.widget-view+json": {
       "model_id": "34714ed9192d4a32814a1bf129dc3405",
       "version_major": 2,
       "version_minor": 0
      },
      "text/plain": [
       "  0%|          | 0/56 [00:00<?, ?it/s]"
      ]
     },
     "metadata": {},
     "output_type": "display_data"
    },
    {
     "data": {
      "application/vnd.jupyter.widget-view+json": {
       "model_id": "2ef6aef9f87f454a8798aade7dc1b7fd",
       "version_major": 2,
       "version_minor": 0
      },
      "text/plain": [
       "  0%|          | 0/1074 [00:00<?, ?it/s]"
      ]
     },
     "metadata": {},
     "output_type": "display_data"
    },
    {
     "data": {
      "application/vnd.jupyter.widget-view+json": {
       "model_id": "476d939c50034940b7860277d494ef59",
       "version_major": 2,
       "version_minor": 0
      },
      "text/plain": [
       "  0%|          | 0/1130 [00:00<?, ?it/s]"
      ]
     },
     "metadata": {},
     "output_type": "display_data"
    },
    {
     "name": "stdout",
     "output_type": "stream",
     "text": [
      "Runing fairness optimisation on 'CP', 0.05, 0.05\n",
      "Set parameter WLSAccessID\n",
      "Set parameter WLSSecret\n",
      "Set parameter LicenseID to value 2384212\n",
      "Academic license - for non-commercial use only - registered to timvnb@gmail.com\n",
      "Warning for adding constraints: zero or small (< 1e-13) coefficients, ignored\n",
      "Set parameter NodeLimit to value 1073741824\n",
      "Set parameter SolutionLimit to value 1073741824\n",
      "Set parameter IntFeasTol to value 1e-06\n",
      "Set parameter Method to value 3\n",
      "Gurobi Optimizer version 10.0.1 build v10.0.1rc0 (linux64)\n",
      "\n",
      "CPU model: Intel(R) Core(TM) i7-8750H CPU @ 2.20GHz, instruction set [SSE2|AVX|AVX2]\n",
      "Thread count: 6 physical cores, 12 logical processors, using up to 12 threads\n",
      "\n",
      "Academic license - for non-commercial use only - registered to timvnb@gmail.com\n",
      "Optimize a model with 62158 rows, 61028 columns and 208947 nonzeros\n",
      "Model fingerprint: 0x0e71ea57\n",
      "Coefficient statistics:\n",
      "  Matrix range     [5e-03, 1e+00]\n",
      "  Objective range  [7e-06, 3e+00]\n",
      "  Bounds range     [0e+00, 0e+00]\n",
      "  RHS range        [1e+00, 1e+01]\n",
      "Presolve removed 61028 rows and 4528 columns\n",
      "Presolve time: 0.07s\n",
      "Presolved: 1130 rows, 56500 columns, 56500 nonzeros\n",
      "\n",
      "Concurrent LP optimizer: primal simplex, dual simplex, and barrier\n",
      "Showing barrier log only...\n",
      "\n",
      "Ordering time: 0.00s\n",
      "\n",
      "Barrier statistics:\n",
      " AA' NZ     : 0.000e+00\n",
      " Factor NZ  : 1.130e+03 (roughly 23 MB of memory)\n",
      " Factor Ops : 1.130e+03 (less than 1 second per iteration)\n",
      " Threads    : 1\n",
      "\n",
      "                  Objective                Residual\n",
      "Iter       Primal          Dual         Primal    Dual     Compl     Time\n",
      "   0   8.97076976e+04  1.58677161e+05  7.91e+01 5.77e-15  4.38e+01     0s\n",
      "   1   1.08628555e+04  8.66001045e+04  9.24e-14 1.95e-14  5.36e+00     0s\n",
      "   2   1.23081537e+04  2.33050902e+04  1.24e-14 8.88e-15  7.79e-01     0s\n",
      "\n",
      "Barrier performed 2 iterations in 0.13 seconds (0.10 work units)\n",
      "Barrier solve interrupted - model solved by another algorithm\n",
      "\n",
      "\n",
      "Solved with dual simplex\n",
      "Iteration    Objective       Primal Inf.    Dual Inf.      Time\n",
      "    1130    1.5650700e+04   0.000000e+00   0.000000e+00      0s\n",
      "\n",
      "Solved in 1130 iterations and 0.16 seconds (0.09 work units)\n",
      "Optimal objective  1.565070028e+04\n"
     ]
    },
    {
     "data": {
      "application/vnd.jupyter.widget-view+json": {
       "model_id": "0c6070dcda2a4be59cb54508366f1df8",
       "version_major": 2,
       "version_minor": 0
      },
      "text/plain": [
       "  0%|          | 0/56 [00:00<?, ?it/s]"
      ]
     },
     "metadata": {},
     "output_type": "display_data"
    },
    {
     "data": {
      "application/vnd.jupyter.widget-view+json": {
       "model_id": "2973c7c1f4c54e66b7cf00c40da421f7",
       "version_major": 2,
       "version_minor": 0
      },
      "text/plain": [
       "  0%|          | 0/1074 [00:00<?, ?it/s]"
      ]
     },
     "metadata": {},
     "output_type": "display_data"
    },
    {
     "data": {
      "application/vnd.jupyter.widget-view+json": {
       "model_id": "8a8b424b60a1458c9ab86fb393973b85",
       "version_major": 2,
       "version_minor": 0
      },
      "text/plain": [
       "  0%|          | 0/1130 [00:00<?, ?it/s]"
      ]
     },
     "metadata": {},
     "output_type": "display_data"
    },
    {
     "name": "stdout",
     "output_type": "stream",
     "text": [
      "> Model: PF\n",
      "PF\n"
     ]
    },
    {
     "data": {
      "application/vnd.jupyter.widget-view+json": {
       "model_id": "6cdaf3b9835d4e6c84521b172aec3dc0",
       "version_major": 2,
       "version_minor": 0
      },
      "text/plain": [
       "  0%|          | 0/1130 [00:00<?, ?it/s]"
      ]
     },
     "metadata": {},
     "output_type": "display_data"
    },
    {
     "data": {
      "application/vnd.jupyter.widget-view+json": {
       "model_id": "b8c0423f349d4661bab97475769020d8",
       "version_major": 2,
       "version_minor": 0
      },
      "text/plain": [
       "  0%|          | 0/1130 [00:00<?, ?it/s]"
      ]
     },
     "metadata": {},
     "output_type": "display_data"
    },
    {
     "name": "stdout",
     "output_type": "stream",
     "text": [
      "Runing fairness optimisation on 'N', None, None\n",
      "Set parameter WLSAccessID\n",
      "Set parameter WLSSecret\n",
      "Set parameter LicenseID to value 2384212\n",
      "Academic license - for non-commercial use only - registered to timvnb@gmail.com\n",
      "Warning for adding constraints: zero or small (< 1e-13) coefficients, ignored\n",
      "Set parameter NodeLimit to value 1073741824\n",
      "Set parameter SolutionLimit to value 1073741824\n",
      "Set parameter IntFeasTol to value 1e-06\n",
      "Set parameter Method to value 3\n",
      "Gurobi Optimizer version 10.0.1 build v10.0.1rc0 (linux64)\n",
      "\n",
      "CPU model: Intel(R) Core(TM) i7-8750H CPU @ 2.20GHz, instruction set [SSE2|AVX|AVX2]\n",
      "Thread count: 6 physical cores, 12 logical processors, using up to 12 threads\n",
      "\n",
      "Academic license - for non-commercial use only - registered to timvnb@gmail.com\n",
      "Optimize a model with 62158 rows, 61028 columns and 223518 nonzeros\n",
      "Model fingerprint: 0xe2fba0f0\n",
      "Coefficient statistics:\n",
      "  Matrix range     [5e-03, 1e+00]\n",
      "  Objective range  [7e-03, 4e+01]\n",
      "  Bounds range     [0e+00, 0e+00]\n",
      "  RHS range        [1e+00, 1e+01]\n",
      "Presolve removed 61028 rows and 4528 columns\n",
      "Presolve time: 0.08s\n",
      "Presolved: 1130 rows, 56500 columns, 56500 nonzeros\n",
      "\n",
      "Concurrent LP optimizer: primal simplex, dual simplex, and barrier\n",
      "Showing barrier log only...\n",
      "\n",
      "Ordering time: 0.00s\n",
      "\n",
      "Barrier statistics:\n",
      " AA' NZ     : 0.000e+00\n",
      " Factor NZ  : 1.130e+03 (roughly 23 MB of memory)\n",
      " Factor Ops : 1.130e+03 (less than 1 second per iteration)\n",
      " Threads    : 1\n",
      "\n",
      "                  Objective                Residual\n",
      "Iter       Primal          Dual         Primal    Dual     Compl     Time\n",
      "   0   1.37038110e+04  2.72257270e+06  7.91e+01 3.55e-15  1.00e+02     0s\n",
      "   1   1.63060242e+03  1.39781454e+06  4.97e-14 4.25e-14  1.24e+01     0s\n",
      "\n",
      "Barrier performed 1 iterations in 0.12 seconds (0.09 work units)\n",
      "Barrier solve interrupted - model solved by another algorithm\n",
      "\n",
      "\n",
      "Solved with dual simplex\n",
      "Iteration    Objective       Primal Inf.    Dual Inf.      Time\n",
      "    1130    5.3814336e+03   0.000000e+00   0.000000e+00      0s\n",
      "\n",
      "Solved in 1130 iterations and 0.15 seconds (0.10 work units)\n",
      "Optimal objective  5.381433610e+03\n"
     ]
    },
    {
     "data": {
      "application/vnd.jupyter.widget-view+json": {
       "model_id": "b6ea68bf523347b19db5350b61ede265",
       "version_major": 2,
       "version_minor": 0
      },
      "text/plain": [
       "  0%|          | 0/56 [00:00<?, ?it/s]"
      ]
     },
     "metadata": {},
     "output_type": "display_data"
    },
    {
     "data": {
      "application/vnd.jupyter.widget-view+json": {
       "model_id": "619b694bbe4c45feb2f660d8282bed1f",
       "version_major": 2,
       "version_minor": 0
      },
      "text/plain": [
       "  0%|          | 0/1074 [00:00<?, ?it/s]"
      ]
     },
     "metadata": {},
     "output_type": "display_data"
    },
    {
     "data": {
      "application/vnd.jupyter.widget-view+json": {
       "model_id": "651b2b67223f4a469af4414df82b4f44",
       "version_major": 2,
       "version_minor": 0
      },
      "text/plain": [
       "  0%|          | 0/1130 [00:00<?, ?it/s]"
      ]
     },
     "metadata": {},
     "output_type": "display_data"
    },
    {
     "name": "stdout",
     "output_type": "stream",
     "text": [
      "Runing fairness optimisation on 'C', 0.05, None\n",
      "Set parameter WLSAccessID\n",
      "Set parameter WLSSecret\n",
      "Set parameter LicenseID to value 2384212\n",
      "Academic license - for non-commercial use only - registered to timvnb@gmail.com\n",
      "Warning for adding constraints: zero or small (< 1e-13) coefficients, ignored\n",
      "Set parameter NodeLimit to value 1073741824\n",
      "Set parameter SolutionLimit to value 1073741824\n",
      "Set parameter IntFeasTol to value 1e-06\n",
      "Set parameter Method to value 3\n",
      "Gurobi Optimizer version 10.0.1 build v10.0.1rc0 (linux64)\n",
      "\n",
      "CPU model: Intel(R) Core(TM) i7-8750H CPU @ 2.20GHz, instruction set [SSE2|AVX|AVX2]\n",
      "Thread count: 6 physical cores, 12 logical processors, using up to 12 threads\n",
      "\n",
      "Academic license - for non-commercial use only - registered to timvnb@gmail.com\n",
      "Optimize a model with 62158 rows, 61028 columns and 223518 nonzeros\n",
      "Model fingerprint: 0x96f24c4f\n",
      "Coefficient statistics:\n",
      "  Matrix range     [5e-03, 1e+00]\n",
      "  Objective range  [7e-03, 4e+01]\n",
      "  Bounds range     [0e+00, 0e+00]\n",
      "  RHS range        [1e+00, 1e+01]\n",
      "Presolve removed 61028 rows and 4528 columns\n",
      "Presolve time: 0.08s\n",
      "Presolved: 1130 rows, 56500 columns, 56500 nonzeros\n",
      "\n",
      "Concurrent LP optimizer: primal simplex, dual simplex, and barrier\n",
      "Showing barrier log only...\n",
      "\n",
      "Ordering time: 0.00s\n",
      "\n",
      "Barrier statistics:\n",
      " AA' NZ     : 0.000e+00\n",
      " Factor NZ  : 1.130e+03 (roughly 23 MB of memory)\n",
      " Factor Ops : 1.130e+03 (less than 1 second per iteration)\n",
      " Threads    : 1\n",
      "\n",
      "                  Objective                Residual\n",
      "Iter       Primal          Dual         Primal    Dual     Compl     Time\n",
      "   0   1.26333704e+04  2.72385091e+06  7.91e+01 7.11e-15  2.01e+02     0s\n",
      "\n",
      "Barrier performed 0 iterations in 0.12 seconds (0.08 work units)\n",
      "Barrier solve interrupted - model solved by another algorithm\n",
      "\n",
      "\n",
      "Solved with dual simplex\n",
      "Iteration    Objective       Primal Inf.    Dual Inf.      Time\n",
      "    1130    5.2792858e+03   0.000000e+00   0.000000e+00      0s\n",
      "\n",
      "Solved in 1130 iterations and 0.14 seconds (0.10 work units)\n",
      "Optimal objective  5.279285806e+03\n"
     ]
    },
    {
     "data": {
      "application/vnd.jupyter.widget-view+json": {
       "model_id": "4cf6a1406b7849428b70bf0fbb0e388a",
       "version_major": 2,
       "version_minor": 0
      },
      "text/plain": [
       "  0%|          | 0/56 [00:00<?, ?it/s]"
      ]
     },
     "metadata": {},
     "output_type": "display_data"
    },
    {
     "data": {
      "application/vnd.jupyter.widget-view+json": {
       "model_id": "051be7b77ad84cb7a39beb67ece8de25",
       "version_major": 2,
       "version_minor": 0
      },
      "text/plain": [
       "  0%|          | 0/1074 [00:00<?, ?it/s]"
      ]
     },
     "metadata": {},
     "output_type": "display_data"
    },
    {
     "data": {
      "application/vnd.jupyter.widget-view+json": {
       "model_id": "41cbf800daa94e57af1d2fd5fc2c6df3",
       "version_major": 2,
       "version_minor": 0
      },
      "text/plain": [
       "  0%|          | 0/1130 [00:00<?, ?it/s]"
      ]
     },
     "metadata": {},
     "output_type": "display_data"
    },
    {
     "name": "stdout",
     "output_type": "stream",
     "text": [
      "Runing fairness optimisation on 'P', None, 0.05\n",
      "Set parameter WLSAccessID\n",
      "Set parameter WLSSecret\n",
      "Set parameter LicenseID to value 2384212\n",
      "Academic license - for non-commercial use only - registered to timvnb@gmail.com\n",
      "Warning for adding constraints: zero or small (< 1e-13) coefficients, ignored\n",
      "Set parameter NodeLimit to value 1073741824\n",
      "Set parameter SolutionLimit to value 1073741824\n",
      "Set parameter IntFeasTol to value 1e-06\n",
      "Set parameter Method to value 3\n",
      "Gurobi Optimizer version 10.0.1 build v10.0.1rc0 (linux64)\n",
      "\n",
      "CPU model: Intel(R) Core(TM) i7-8750H CPU @ 2.20GHz, instruction set [SSE2|AVX|AVX2]\n",
      "Thread count: 6 physical cores, 12 logical processors, using up to 12 threads\n",
      "\n",
      "Academic license - for non-commercial use only - registered to timvnb@gmail.com\n",
      "Optimize a model with 62158 rows, 61028 columns and 223518 nonzeros\n",
      "Model fingerprint: 0x0b372608\n",
      "Coefficient statistics:\n",
      "  Matrix range     [5e-03, 1e+00]\n",
      "  Objective range  [7e-03, 4e+01]\n",
      "  Bounds range     [0e+00, 0e+00]\n",
      "  RHS range        [1e+00, 1e+01]\n",
      "Presolve removed 61028 rows and 4528 columns\n",
      "Presolve time: 0.07s\n",
      "Presolved: 1130 rows, 56500 columns, 56500 nonzeros\n",
      "\n",
      "Concurrent LP optimizer: primal simplex, dual simplex, and barrier\n",
      "Showing barrier log only...\n",
      "\n",
      "Ordering time: 0.00s\n",
      "\n",
      "Barrier statistics:\n",
      " AA' NZ     : 0.000e+00\n",
      " Factor NZ  : 1.130e+03 (roughly 23 MB of memory)\n",
      " Factor Ops : 1.130e+03 (less than 1 second per iteration)\n",
      " Threads    : 1\n",
      "\n",
      "                  Objective                Residual\n",
      "Iter       Primal          Dual         Primal    Dual     Compl     Time\n",
      "   0   1.19746788e+04  2.72606522e+06  7.91e+01 7.11e-15  2.01e+02     0s\n",
      "   1   1.43668803e+03  1.39951222e+06  1.14e-13 8.35e-14  2.47e+01     0s\n",
      "\n",
      "Barrier performed 1 iterations in 0.12 seconds (0.09 work units)\n",
      "Barrier solve interrupted - model solved by another algorithm\n",
      "\n",
      "\n",
      "Solved with dual simplex\n",
      "Iteration    Objective       Primal Inf.    Dual Inf.      Time\n",
      "    1130    5.2761158e+03   0.000000e+00   0.000000e+00      0s\n",
      "\n",
      "Solved in 1130 iterations and 0.14 seconds (0.10 work units)\n",
      "Optimal objective  5.276115806e+03\n"
     ]
    },
    {
     "data": {
      "application/vnd.jupyter.widget-view+json": {
       "model_id": "dbe5b36784b64771a9b1b88b014ab78f",
       "version_major": 2,
       "version_minor": 0
      },
      "text/plain": [
       "  0%|          | 0/56 [00:00<?, ?it/s]"
      ]
     },
     "metadata": {},
     "output_type": "display_data"
    },
    {
     "data": {
      "application/vnd.jupyter.widget-view+json": {
       "model_id": "1c225e1b9aba4404b1b88227c823ce38",
       "version_major": 2,
       "version_minor": 0
      },
      "text/plain": [
       "  0%|          | 0/1074 [00:00<?, ?it/s]"
      ]
     },
     "metadata": {},
     "output_type": "display_data"
    },
    {
     "data": {
      "application/vnd.jupyter.widget-view+json": {
       "model_id": "5fea286a0ac5436b8adbebf4da35cd40",
       "version_major": 2,
       "version_minor": 0
      },
      "text/plain": [
       "  0%|          | 0/1130 [00:00<?, ?it/s]"
      ]
     },
     "metadata": {},
     "output_type": "display_data"
    },
    {
     "name": "stdout",
     "output_type": "stream",
     "text": [
      "Runing fairness optimisation on 'CP', 0.05, 0.05\n",
      "Set parameter WLSAccessID\n",
      "Set parameter WLSSecret\n",
      "Set parameter LicenseID to value 2384212\n",
      "Academic license - for non-commercial use only - registered to timvnb@gmail.com\n",
      "Warning for adding constraints: zero or small (< 1e-13) coefficients, ignored\n",
      "Set parameter NodeLimit to value 1073741824\n",
      "Set parameter SolutionLimit to value 1073741824\n",
      "Set parameter IntFeasTol to value 1e-06\n",
      "Set parameter Method to value 3\n",
      "Gurobi Optimizer version 10.0.1 build v10.0.1rc0 (linux64)\n",
      "\n",
      "CPU model: Intel(R) Core(TM) i7-8750H CPU @ 2.20GHz, instruction set [SSE2|AVX|AVX2]\n",
      "Thread count: 6 physical cores, 12 logical processors, using up to 12 threads\n",
      "\n",
      "Academic license - for non-commercial use only - registered to timvnb@gmail.com\n",
      "Optimize a model with 62158 rows, 61028 columns and 223518 nonzeros\n",
      "Model fingerprint: 0x1c9b057f\n",
      "Coefficient statistics:\n",
      "  Matrix range     [5e-03, 1e+00]\n",
      "  Objective range  [7e-03, 4e+01]\n",
      "  Bounds range     [0e+00, 0e+00]\n",
      "  RHS range        [1e+00, 1e+01]\n",
      "Presolve removed 61028 rows and 4528 columns\n",
      "Presolve time: 0.07s\n",
      "Presolved: 1130 rows, 56500 columns, 56500 nonzeros\n",
      "\n",
      "Concurrent LP optimizer: primal simplex, dual simplex, and barrier\n",
      "Showing barrier log only...\n",
      "\n",
      "Ordering time: 0.00s\n",
      "\n",
      "Barrier statistics:\n",
      " AA' NZ     : 0.000e+00\n",
      " Factor NZ  : 1.130e+03 (roughly 23 MB of memory)\n",
      " Factor Ops : 1.130e+03 (less than 1 second per iteration)\n",
      " Threads    : 1\n",
      "\n",
      "                  Objective                Residual\n",
      "Iter       Primal          Dual         Primal    Dual     Compl     Time\n",
      "   0   1.09042381e+04  2.72734344e+06  7.91e+01 7.11e-15  2.01e+02     0s\n",
      "   1   1.31658592e+03  1.40010963e+06  8.17e-14 9.02e-14  2.48e+01     0s\n",
      "\n",
      "Barrier performed 1 iterations in 0.10 seconds (0.09 work units)\n",
      "Barrier solve interrupted - model solved by another algorithm\n",
      "\n",
      "\n",
      "Solved with dual simplex\n",
      "Iteration    Objective       Primal Inf.    Dual Inf.      Time\n",
      "    1130    5.1807532e+03   0.000000e+00   0.000000e+00      0s\n",
      "\n",
      "Solved in 1130 iterations and 0.13 seconds (0.10 work units)\n",
      "Optimal objective  5.180753151e+03\n"
     ]
    },
    {
     "data": {
      "application/vnd.jupyter.widget-view+json": {
       "model_id": "284e7a7cbea1418c9a18fd869d26e0d0",
       "version_major": 2,
       "version_minor": 0
      },
      "text/plain": [
       "  0%|          | 0/56 [00:00<?, ?it/s]"
      ]
     },
     "metadata": {},
     "output_type": "display_data"
    },
    {
     "data": {
      "application/vnd.jupyter.widget-view+json": {
       "model_id": "72e038e88c2349018a3fd340f2eaa943",
       "version_major": 2,
       "version_minor": 0
      },
      "text/plain": [
       "  0%|          | 0/1074 [00:00<?, ?it/s]"
      ]
     },
     "metadata": {},
     "output_type": "display_data"
    },
    {
     "data": {
      "application/vnd.jupyter.widget-view+json": {
       "model_id": "5fc920f94c24490090864b21d4faa768",
       "version_major": 2,
       "version_minor": 0
      },
      "text/plain": [
       "  0%|          | 0/1130 [00:00<?, ?it/s]"
      ]
     },
     "metadata": {},
     "output_type": "display_data"
    },
    {
     "name": "stdout",
     "output_type": "stream",
     "text": [
      "> Model: VAECF\n",
      "VAECF\n"
     ]
    },
    {
     "data": {
      "application/vnd.jupyter.widget-view+json": {
       "model_id": "062032de4e534c649ad9c3dd04ab5188",
       "version_major": 2,
       "version_minor": 0
      },
      "text/plain": [
       "  0%|          | 0/1130 [00:00<?, ?it/s]"
      ]
     },
     "metadata": {},
     "output_type": "display_data"
    },
    {
     "data": {
      "application/vnd.jupyter.widget-view+json": {
       "model_id": "ac701994ad8b420084bde45b19ddfe8b",
       "version_major": 2,
       "version_minor": 0
      },
      "text/plain": [
       "  0%|          | 0/1130 [00:00<?, ?it/s]"
      ]
     },
     "metadata": {},
     "output_type": "display_data"
    },
    {
     "name": "stdout",
     "output_type": "stream",
     "text": [
      "Runing fairness optimisation on 'N', None, None\n",
      "Set parameter WLSAccessID\n",
      "Set parameter WLSSecret\n",
      "Set parameter LicenseID to value 2384212\n",
      "Academic license - for non-commercial use only - registered to timvnb@gmail.com\n",
      "Warning for adding constraints: zero or small (< 1e-13) coefficients, ignored\n",
      "Set parameter NodeLimit to value 1073741824\n",
      "Set parameter SolutionLimit to value 1073741824\n",
      "Set parameter IntFeasTol to value 1e-06\n",
      "Set parameter Method to value 3\n",
      "Gurobi Optimizer version 10.0.1 build v10.0.1rc0 (linux64)\n",
      "\n",
      "CPU model: Intel(R) Core(TM) i7-8750H CPU @ 2.20GHz, instruction set [SSE2|AVX|AVX2]\n",
      "Thread count: 6 physical cores, 12 logical processors, using up to 12 threads\n",
      "\n",
      "Academic license - for non-commercial use only - registered to timvnb@gmail.com\n",
      "Optimize a model with 62158 rows, 61028 columns and 221757 nonzeros\n",
      "Model fingerprint: 0x7b4d4087\n",
      "Coefficient statistics:\n",
      "  Matrix range     [5e-03, 1e+00]\n",
      "  Objective range  [2e-06, 2e-02]\n",
      "  Bounds range     [0e+00, 0e+00]\n",
      "  RHS range        [1e+00, 1e+01]\n",
      "Presolve removed 61028 rows and 4529 columns\n",
      "Presolve time: 0.11s\n",
      "Presolved: 1130 rows, 56499 columns, 56499 nonzeros\n",
      "\n",
      "Concurrent LP optimizer: primal simplex, dual simplex, and barrier\n",
      "Showing barrier log only...\n",
      "\n",
      "Ordering time: 0.00s\n",
      "\n",
      "Barrier statistics:\n",
      " AA' NZ     : 0.000e+00\n",
      " Factor NZ  : 1.130e+03 (roughly 23 MB of memory)\n",
      " Factor Ops : 1.130e+03 (less than 1 second per iteration)\n",
      " Threads    : 1\n",
      "\n",
      "                  Objective                Residual\n",
      "Iter       Primal          Dual         Primal    Dual     Compl     Time\n",
      "   0   1.44379469e+02  1.07683478e+03  7.91e+01 4.44e-16  1.00e+01     0s\n",
      "   1   1.90909245e+01  5.61440705e+02  3.91e-14 3.55e-15  1.23e+00     0s\n",
      "\n",
      "Barrier performed 1 iterations in 0.16 seconds (0.10 work units)\n",
      "Barrier solve interrupted - model solved by another algorithm\n",
      "\n",
      "\n",
      "Solved with dual simplex\n",
      "Iteration    Objective       Primal Inf.    Dual Inf.      Time\n",
      "    1130    4.9096687e+01   0.000000e+00   0.000000e+00      0s\n",
      "\n",
      "Solved in 1130 iterations and 0.19 seconds (0.10 work units)\n",
      "Optimal objective  4.909668673e+01\n"
     ]
    },
    {
     "data": {
      "application/vnd.jupyter.widget-view+json": {
       "model_id": "d38d53e2995e444d9d83207c47aee0a1",
       "version_major": 2,
       "version_minor": 0
      },
      "text/plain": [
       "  0%|          | 0/56 [00:00<?, ?it/s]"
      ]
     },
     "metadata": {},
     "output_type": "display_data"
    },
    {
     "data": {
      "application/vnd.jupyter.widget-view+json": {
       "model_id": "83680418baaf4cd2a5480f0cae0c2582",
       "version_major": 2,
       "version_minor": 0
      },
      "text/plain": [
       "  0%|          | 0/1074 [00:00<?, ?it/s]"
      ]
     },
     "metadata": {},
     "output_type": "display_data"
    },
    {
     "data": {
      "application/vnd.jupyter.widget-view+json": {
       "model_id": "7dfe7484ecb247269076313187785aba",
       "version_major": 2,
       "version_minor": 0
      },
      "text/plain": [
       "  0%|          | 0/1130 [00:00<?, ?it/s]"
      ]
     },
     "metadata": {},
     "output_type": "display_data"
    },
    {
     "name": "stdout",
     "output_type": "stream",
     "text": [
      "Runing fairness optimisation on 'C', 0.05, None\n",
      "Set parameter WLSAccessID\n",
      "Set parameter WLSSecret\n",
      "Set parameter LicenseID to value 2384212\n",
      "Academic license - for non-commercial use only - registered to timvnb@gmail.com\n",
      "Warning for adding constraints: zero or small (< 1e-13) coefficients, ignored\n",
      "Set parameter NodeLimit to value 1073741824\n",
      "Set parameter SolutionLimit to value 1073741824\n",
      "Set parameter IntFeasTol to value 1e-06\n",
      "Set parameter Method to value 3\n",
      "Gurobi Optimizer version 10.0.1 build v10.0.1rc0 (linux64)\n",
      "\n",
      "CPU model: Intel(R) Core(TM) i7-8750H CPU @ 2.20GHz, instruction set [SSE2|AVX|AVX2]\n",
      "Thread count: 6 physical cores, 12 logical processors, using up to 12 threads\n",
      "\n",
      "Academic license - for non-commercial use only - registered to timvnb@gmail.com\n",
      "Optimize a model with 62158 rows, 61028 columns and 221757 nonzeros\n",
      "Model fingerprint: 0x61b09576\n",
      "Coefficient statistics:\n",
      "  Matrix range     [5e-03, 1e+00]\n",
      "  Objective range  [2e-06, 5e-02]\n",
      "  Bounds range     [0e+00, 0e+00]\n",
      "  RHS range        [1e+00, 1e+01]\n",
      "Presolve removed 61028 rows and 4528 columns\n",
      "Presolve time: 0.07s\n",
      "Presolved: 1130 rows, 56500 columns, 56500 nonzeros\n",
      "\n",
      "Concurrent LP optimizer: primal simplex, dual simplex, and barrier\n",
      "Showing barrier log only...\n",
      "\n",
      "Ordering time: 0.00s\n",
      "\n",
      "Barrier statistics:\n",
      " AA' NZ     : 0.000e+00\n",
      " Factor NZ  : 1.130e+03 (roughly 23 MB of memory)\n",
      " Factor Ops : 1.130e+03 (less than 1 second per iteration)\n",
      " Threads    : 1\n",
      "\n",
      "                  Objective                Residual\n",
      "Iter       Primal          Dual         Primal    Dual     Compl     Time\n",
      "   0  -9.22231126e+02  3.18930611e+03  7.91e+01 3.55e-15  3.11e+01     0s\n",
      "   1  -1.74376645e+00  1.62178119e+03  5.33e-14 1.42e-14  3.68e+00     0s\n",
      "\n",
      "Barrier performed 1 iterations in 0.11 seconds (0.09 work units)\n",
      "Barrier solve interrupted - model solved by another algorithm\n",
      "\n",
      "\n",
      "Solved with dual simplex\n",
      "Iteration    Objective       Primal Inf.    Dual Inf.      Time\n",
      "    1130    6.9346351e+01   0.000000e+00   0.000000e+00      0s\n",
      "\n",
      "Solved in 1130 iterations and 0.13 seconds (0.10 work units)\n",
      "Optimal objective  6.934635102e+01\n"
     ]
    },
    {
     "data": {
      "application/vnd.jupyter.widget-view+json": {
       "model_id": "62e6c9201f0e479d9db2613d5467f1b7",
       "version_major": 2,
       "version_minor": 0
      },
      "text/plain": [
       "  0%|          | 0/56 [00:00<?, ?it/s]"
      ]
     },
     "metadata": {},
     "output_type": "display_data"
    },
    {
     "data": {
      "application/vnd.jupyter.widget-view+json": {
       "model_id": "2f7d251531cf465a993702eb35c92d95",
       "version_major": 2,
       "version_minor": 0
      },
      "text/plain": [
       "  0%|          | 0/1074 [00:00<?, ?it/s]"
      ]
     },
     "metadata": {},
     "output_type": "display_data"
    },
    {
     "data": {
      "application/vnd.jupyter.widget-view+json": {
       "model_id": "bc3537b982374d61bbc058537f453dfd",
       "version_major": 2,
       "version_minor": 0
      },
      "text/plain": [
       "  0%|          | 0/1130 [00:00<?, ?it/s]"
      ]
     },
     "metadata": {},
     "output_type": "display_data"
    },
    {
     "name": "stdout",
     "output_type": "stream",
     "text": [
      "Runing fairness optimisation on 'P', None, 0.05\n",
      "Set parameter WLSAccessID\n",
      "Set parameter WLSSecret\n",
      "Set parameter LicenseID to value 2384212\n",
      "Academic license - for non-commercial use only - registered to timvnb@gmail.com\n",
      "Warning for adding constraints: zero or small (< 1e-13) coefficients, ignored\n",
      "Set parameter NodeLimit to value 1073741824\n",
      "Set parameter SolutionLimit to value 1073741824\n",
      "Set parameter IntFeasTol to value 1e-06\n",
      "Set parameter Method to value 3\n",
      "Gurobi Optimizer version 10.0.1 build v10.0.1rc0 (linux64)\n",
      "\n",
      "CPU model: Intel(R) Core(TM) i7-8750H CPU @ 2.20GHz, instruction set [SSE2|AVX|AVX2]\n",
      "Thread count: 6 physical cores, 12 logical processors, using up to 12 threads\n",
      "\n",
      "Academic license - for non-commercial use only - registered to timvnb@gmail.com\n",
      "Optimize a model with 62158 rows, 61028 columns and 221757 nonzeros\n",
      "Model fingerprint: 0x015b39ce\n",
      "Coefficient statistics:\n",
      "  Matrix range     [5e-03, 1e+00]\n",
      "  Objective range  [2e-06, 5e-02]\n",
      "  Bounds range     [0e+00, 0e+00]\n",
      "  RHS range        [1e+00, 1e+01]\n",
      "Presolve removed 61028 rows and 4529 columns\n",
      "Presolve time: 0.07s\n",
      "Presolved: 1130 rows, 56499 columns, 56499 nonzeros\n",
      "\n",
      "Concurrent LP optimizer: primal simplex, dual simplex, and barrier\n",
      "Showing barrier log only...\n",
      "\n",
      "Ordering time: 0.00s\n",
      "\n",
      "Barrier statistics:\n",
      " AA' NZ     : 0.000e+00\n",
      " Factor NZ  : 1.130e+03 (roughly 23 MB of memory)\n",
      " Factor Ops : 1.130e+03 (less than 1 second per iteration)\n",
      " Threads    : 1\n",
      "\n",
      "                  Objective                Residual\n",
      "Iter       Primal          Dual         Primal    Dual     Compl     Time\n",
      "   0  -1.78598602e+03  3.38371642e+03  7.43e+01 0.00e+00  2.70e-01     0s\n",
      "   1  -1.72531367e+01  1.74508413e+03  4.12e+00 1.39e-16  3.72e-02     0s\n",
      "\n",
      "Barrier performed 1 iterations in 0.11 seconds (0.10 work units)\n",
      "Barrier solve interrupted - model solved by another algorithm\n",
      "\n",
      "\n",
      "Solved with dual simplex\n",
      "Iteration    Objective       Primal Inf.    Dual Inf.      Time\n",
      "    1130    2.6903984e+02   0.000000e+00   0.000000e+00      0s\n",
      "\n",
      "Solved in 1130 iterations and 0.14 seconds (0.10 work units)\n",
      "Optimal objective  2.690398411e+02\n"
     ]
    },
    {
     "data": {
      "application/vnd.jupyter.widget-view+json": {
       "model_id": "2b28e03580874f0cbf0d753040481822",
       "version_major": 2,
       "version_minor": 0
      },
      "text/plain": [
       "  0%|          | 0/56 [00:00<?, ?it/s]"
      ]
     },
     "metadata": {},
     "output_type": "display_data"
    },
    {
     "data": {
      "application/vnd.jupyter.widget-view+json": {
       "model_id": "3a414202715248b1bd7e5e71d0cd68b4",
       "version_major": 2,
       "version_minor": 0
      },
      "text/plain": [
       "  0%|          | 0/1074 [00:00<?, ?it/s]"
      ]
     },
     "metadata": {},
     "output_type": "display_data"
    },
    {
     "data": {
      "application/vnd.jupyter.widget-view+json": {
       "model_id": "2592f5379219428fa00d5ae1c1f0a654",
       "version_major": 2,
       "version_minor": 0
      },
      "text/plain": [
       "  0%|          | 0/1130 [00:00<?, ?it/s]"
      ]
     },
     "metadata": {},
     "output_type": "display_data"
    },
    {
     "name": "stdout",
     "output_type": "stream",
     "text": [
      "Runing fairness optimisation on 'CP', 0.05, 0.05\n",
      "Set parameter WLSAccessID\n",
      "Set parameter WLSSecret\n",
      "Set parameter LicenseID to value 2384212\n",
      "Academic license - for non-commercial use only - registered to timvnb@gmail.com\n",
      "Warning for adding constraints: zero or small (< 1e-13) coefficients, ignored\n",
      "Set parameter NodeLimit to value 1073741824\n",
      "Set parameter SolutionLimit to value 1073741824\n",
      "Set parameter IntFeasTol to value 1e-06\n",
      "Set parameter Method to value 3\n",
      "Gurobi Optimizer version 10.0.1 build v10.0.1rc0 (linux64)\n",
      "\n",
      "CPU model: Intel(R) Core(TM) i7-8750H CPU @ 2.20GHz, instruction set [SSE2|AVX|AVX2]\n",
      "Thread count: 6 physical cores, 12 logical processors, using up to 12 threads\n",
      "\n",
      "Academic license - for non-commercial use only - registered to timvnb@gmail.com\n",
      "Optimize a model with 62158 rows, 61028 columns and 221757 nonzeros\n",
      "Model fingerprint: 0xec511d8b\n",
      "Coefficient statistics:\n",
      "  Matrix range     [5e-03, 1e+00]\n",
      "  Objective range  [2e-06, 5e-02]\n",
      "  Bounds range     [0e+00, 0e+00]\n",
      "  RHS range        [1e+00, 1e+01]\n",
      "Presolve removed 61028 rows and 4528 columns\n",
      "Presolve time: 0.07s\n",
      "Presolved: 1130 rows, 56500 columns, 56500 nonzeros\n",
      "\n",
      "Concurrent LP optimizer: primal simplex, dual simplex, and barrier\n",
      "Showing barrier log only...\n",
      "\n",
      "Ordering time: 0.00s\n",
      "\n",
      "Barrier statistics:\n",
      " AA' NZ     : 0.000e+00\n",
      " Factor NZ  : 1.130e+03 (roughly 23 MB of memory)\n",
      " Factor Ops : 1.130e+03 (less than 1 second per iteration)\n",
      " Threads    : 1\n",
      "\n",
      "                  Objective                Residual\n",
      "Iter       Primal          Dual         Primal    Dual     Compl     Time\n",
      "   0  -2.80717393e+03  5.79198826e+03  7.47e+01 1.78e-15  2.93e+01     0s\n",
      "   1  -1.72250054e+02  2.89509756e+03  1.94e+00 1.42e-14  3.77e+00     0s\n",
      "\n",
      "Barrier performed 1 iterations in 0.11 seconds (0.09 work units)\n",
      "Barrier solve interrupted - model solved by another algorithm\n",
      "\n",
      "\n",
      "Solved with dual simplex\n",
      "Iteration    Objective       Primal Inf.    Dual Inf.      Time\n",
      "    1130    2.5944758e+02   0.000000e+00   0.000000e+00      0s\n",
      "\n",
      "Solved in 1130 iterations and 0.13 seconds (0.10 work units)\n",
      "Optimal objective  2.594475802e+02\n"
     ]
    },
    {
     "data": {
      "application/vnd.jupyter.widget-view+json": {
       "model_id": "5f244b4669134723907b09b56ae4ecfe",
       "version_major": 2,
       "version_minor": 0
      },
      "text/plain": [
       "  0%|          | 0/56 [00:00<?, ?it/s]"
      ]
     },
     "metadata": {},
     "output_type": "display_data"
    },
    {
     "data": {
      "application/vnd.jupyter.widget-view+json": {
       "model_id": "4975a32270ae4320b11ab7e8a5d402a9",
       "version_major": 2,
       "version_minor": 0
      },
      "text/plain": [
       "  0%|          | 0/1074 [00:00<?, ?it/s]"
      ]
     },
     "metadata": {},
     "output_type": "display_data"
    },
    {
     "data": {
      "application/vnd.jupyter.widget-view+json": {
       "model_id": "49aa1bcbde684711ac800e3b105807ca",
       "version_major": 2,
       "version_minor": 0
      },
      "text/plain": [
       "  0%|          | 0/1130 [00:00<?, ?it/s]"
      ]
     },
     "metadata": {},
     "output_type": "display_data"
    },
    {
     "name": "stdout",
     "output_type": "stream",
     "text": [
      "> Model: NeuMF\n",
      "NeuMF\n"
     ]
    },
    {
     "data": {
      "application/vnd.jupyter.widget-view+json": {
       "model_id": "cadf9a7f8b1e4fb2a6941404a937e31c",
       "version_major": 2,
       "version_minor": 0
      },
      "text/plain": [
       "  0%|          | 0/1130 [00:00<?, ?it/s]"
      ]
     },
     "metadata": {},
     "output_type": "display_data"
    },
    {
     "data": {
      "application/vnd.jupyter.widget-view+json": {
       "model_id": "fedba7347e3e488b9ec36fac39dff2dd",
       "version_major": 2,
       "version_minor": 0
      },
      "text/plain": [
       "  0%|          | 0/1130 [00:00<?, ?it/s]"
      ]
     },
     "metadata": {},
     "output_type": "display_data"
    },
    {
     "name": "stdout",
     "output_type": "stream",
     "text": [
      "Runing fairness optimisation on 'N', None, None\n",
      "Set parameter WLSAccessID\n",
      "Set parameter WLSSecret\n",
      "Set parameter LicenseID to value 2384212\n",
      "Academic license - for non-commercial use only - registered to timvnb@gmail.com\n",
      "Warning for adding constraints: zero or small (< 1e-13) coefficients, ignored\n",
      "Set parameter NodeLimit to value 1073741824\n",
      "Set parameter SolutionLimit to value 1073741824\n",
      "Set parameter IntFeasTol to value 1e-06\n",
      "Set parameter Method to value 3\n",
      "Gurobi Optimizer version 10.0.1 build v10.0.1rc0 (linux64)\n",
      "\n",
      "CPU model: Intel(R) Core(TM) i7-8750H CPU @ 2.20GHz, instruction set [SSE2|AVX|AVX2]\n",
      "Thread count: 6 physical cores, 12 logical processors, using up to 12 threads\n",
      "\n",
      "Academic license - for non-commercial use only - registered to timvnb@gmail.com\n",
      "Optimize a model with 62158 rows, 61028 columns and 213138 nonzeros\n",
      "Model fingerprint: 0x28b98541\n",
      "Coefficient statistics:\n",
      "  Matrix range     [5e-03, 1e+00]\n",
      "  Objective range  [1e-02, 9e-01]\n",
      "  Bounds range     [0e+00, 0e+00]\n",
      "  RHS range        [1e+00, 1e+01]\n",
      "Presolve removed 61028 rows and 4528 columns\n",
      "Presolve time: 0.07s\n",
      "Presolved: 1130 rows, 56500 columns, 56500 nonzeros\n",
      "\n",
      "Concurrent LP optimizer: primal simplex, dual simplex, and barrier\n",
      "Showing barrier log only...\n",
      "\n",
      "Ordering time: 0.00s\n",
      "\n",
      "Barrier statistics:\n",
      " AA' NZ     : 0.000e+00\n",
      " Factor NZ  : 1.130e+03 (roughly 23 MB of memory)\n",
      " Factor Ops : 1.130e+03 (less than 1 second per iteration)\n",
      " Threads    : 1\n",
      "\n",
      "                  Objective                Residual\n",
      "Iter       Primal          Dual         Primal    Dual     Compl     Time\n",
      "   0   3.02273012e+04  4.96660370e+04  7.91e+01 1.11e-16  1.70e+00     0s\n",
      "   1   4.03300566e+03  2.73591259e+04  3.20e-14 7.77e-16  2.06e-01     0s\n",
      "\n",
      "Barrier performed 1 iterations in 0.11 seconds (0.09 work units)\n",
      "Barrier solve interrupted - model solved by another algorithm\n",
      "\n",
      "\n",
      "Solved with dual simplex\n",
      "Iteration    Objective       Primal Inf.    Dual Inf.      Time\n",
      "    1130    6.6936067e+03   0.000000e+00   0.000000e+00      0s\n",
      "\n",
      "Solved in 1130 iterations and 0.13 seconds (0.09 work units)\n",
      "Optimal objective  6.693606733e+03\n"
     ]
    },
    {
     "data": {
      "application/vnd.jupyter.widget-view+json": {
       "model_id": "4c986afe9c2442fcbfe977ec73291025",
       "version_major": 2,
       "version_minor": 0
      },
      "text/plain": [
       "  0%|          | 0/56 [00:00<?, ?it/s]"
      ]
     },
     "metadata": {},
     "output_type": "display_data"
    },
    {
     "data": {
      "application/vnd.jupyter.widget-view+json": {
       "model_id": "b5a8edc37c9d40d9acd1cfac1c483c77",
       "version_major": 2,
       "version_minor": 0
      },
      "text/plain": [
       "  0%|          | 0/1074 [00:00<?, ?it/s]"
      ]
     },
     "metadata": {},
     "output_type": "display_data"
    },
    {
     "data": {
      "application/vnd.jupyter.widget-view+json": {
       "model_id": "f32c9537b32348f48433f063d26668f0",
       "version_major": 2,
       "version_minor": 0
      },
      "text/plain": [
       "  0%|          | 0/1130 [00:00<?, ?it/s]"
      ]
     },
     "metadata": {},
     "output_type": "display_data"
    },
    {
     "name": "stdout",
     "output_type": "stream",
     "text": [
      "Runing fairness optimisation on 'C', 0.05, None\n",
      "Set parameter WLSAccessID\n",
      "Set parameter WLSSecret\n",
      "Set parameter LicenseID to value 2384212\n",
      "Academic license - for non-commercial use only - registered to timvnb@gmail.com\n",
      "Warning for adding constraints: zero or small (< 1e-13) coefficients, ignored\n",
      "Set parameter NodeLimit to value 1073741824\n",
      "Set parameter SolutionLimit to value 1073741824\n",
      "Set parameter IntFeasTol to value 1e-06\n",
      "Set parameter Method to value 3\n",
      "Gurobi Optimizer version 10.0.1 build v10.0.1rc0 (linux64)\n",
      "\n",
      "CPU model: Intel(R) Core(TM) i7-8750H CPU @ 2.20GHz, instruction set [SSE2|AVX|AVX2]\n",
      "Thread count: 6 physical cores, 12 logical processors, using up to 12 threads\n",
      "\n",
      "Academic license - for non-commercial use only - registered to timvnb@gmail.com\n",
      "Optimize a model with 62158 rows, 61028 columns and 213138 nonzeros\n",
      "Model fingerprint: 0x2d9600bf\n",
      "Coefficient statistics:\n",
      "  Matrix range     [5e-03, 1e+00]\n",
      "  Objective range  [1e-02, 9e-01]\n",
      "  Bounds range     [0e+00, 0e+00]\n",
      "  RHS range        [1e+00, 1e+01]\n",
      "Presolve removed 61028 rows and 4528 columns\n",
      "Presolve time: 0.07s\n",
      "Presolved: 1130 rows, 56500 columns, 56500 nonzeros\n",
      "\n",
      "Concurrent LP optimizer: primal simplex, dual simplex, and barrier\n",
      "Showing barrier log only...\n",
      "\n",
      "Ordering time: 0.00s\n",
      "\n",
      "Barrier statistics:\n",
      " AA' NZ     : 0.000e+00\n",
      " Factor NZ  : 1.130e+03 (roughly 23 MB of memory)\n",
      " Factor Ops : 1.130e+03 (less than 1 second per iteration)\n",
      " Threads    : 1\n",
      "\n",
      "                  Objective                Residual\n",
      "Iter       Primal          Dual         Primal    Dual     Compl     Time\n",
      "   0   2.93968545e+04  5.16430438e+04  7.91e+01 2.89e-15  2.85e+01     0s\n",
      "   1   3.91752889e+03  2.83204617e+04  9.41e-14 1.24e-14  3.46e+00     0s\n",
      "\n",
      "Barrier performed 1 iterations in 0.12 seconds (0.09 work units)\n",
      "Barrier solve interrupted - model solved by another algorithm\n",
      "\n",
      "\n",
      "Solved with dual simplex\n",
      "Iteration    Objective       Primal Inf.    Dual Inf.      Time\n",
      "    1130    6.6087805e+03   0.000000e+00   0.000000e+00      0s\n",
      "\n",
      "Solved in 1130 iterations and 0.15 seconds (0.09 work units)\n",
      "Optimal objective  6.608780535e+03\n"
     ]
    },
    {
     "data": {
      "application/vnd.jupyter.widget-view+json": {
       "model_id": "5a6dd21a4b2f489cb9ac5e5342b9947d",
       "version_major": 2,
       "version_minor": 0
      },
      "text/plain": [
       "  0%|          | 0/56 [00:00<?, ?it/s]"
      ]
     },
     "metadata": {},
     "output_type": "display_data"
    },
    {
     "data": {
      "application/vnd.jupyter.widget-view+json": {
       "model_id": "10412fdf27bf44869e19ba9bdb5abd56",
       "version_major": 2,
       "version_minor": 0
      },
      "text/plain": [
       "  0%|          | 0/1074 [00:00<?, ?it/s]"
      ]
     },
     "metadata": {},
     "output_type": "display_data"
    },
    {
     "data": {
      "application/vnd.jupyter.widget-view+json": {
       "model_id": "fbc59518608d4b3dbd9b61a84436ecae",
       "version_major": 2,
       "version_minor": 0
      },
      "text/plain": [
       "  0%|          | 0/1130 [00:00<?, ?it/s]"
      ]
     },
     "metadata": {},
     "output_type": "display_data"
    },
    {
     "name": "stdout",
     "output_type": "stream",
     "text": [
      "Runing fairness optimisation on 'P', None, 0.05\n",
      "Set parameter WLSAccessID\n",
      "Set parameter WLSSecret\n",
      "Set parameter LicenseID to value 2384212\n",
      "Academic license - for non-commercial use only - registered to timvnb@gmail.com\n",
      "Warning for adding constraints: zero or small (< 1e-13) coefficients, ignored\n",
      "Set parameter NodeLimit to value 1073741824\n",
      "Set parameter SolutionLimit to value 1073741824\n",
      "Set parameter IntFeasTol to value 1e-06\n",
      "Set parameter Method to value 3\n",
      "Gurobi Optimizer version 10.0.1 build v10.0.1rc0 (linux64)\n",
      "\n",
      "CPU model: Intel(R) Core(TM) i7-8750H CPU @ 2.20GHz, instruction set [SSE2|AVX|AVX2]\n",
      "Thread count: 6 physical cores, 12 logical processors, using up to 12 threads\n",
      "\n",
      "Academic license - for non-commercial use only - registered to timvnb@gmail.com\n",
      "Optimize a model with 62158 rows, 61028 columns and 213138 nonzeros\n",
      "Model fingerprint: 0xd99da01f\n",
      "Coefficient statistics:\n",
      "  Matrix range     [5e-03, 1e+00]\n",
      "  Objective range  [1e-02, 9e-01]\n",
      "  Bounds range     [0e+00, 0e+00]\n",
      "  RHS range        [1e+00, 1e+01]\n",
      "Presolve removed 61028 rows and 4528 columns\n",
      "Presolve time: 0.07s\n",
      "Presolved: 1130 rows, 56500 columns, 56500 nonzeros\n",
      "\n",
      "Concurrent LP optimizer: primal simplex, dual simplex, and barrier\n",
      "Showing barrier log only...\n",
      "\n",
      "Ordering time: 0.00s\n",
      "\n",
      "Barrier statistics:\n",
      " AA' NZ     : 0.000e+00\n",
      " Factor NZ  : 1.130e+03 (roughly 23 MB of memory)\n",
      " Factor Ops : 1.130e+03 (less than 1 second per iteration)\n",
      " Threads    : 1\n",
      "\n",
      "                  Objective                Residual\n",
      "Iter       Primal          Dual         Primal    Dual     Compl     Time\n",
      "   0   2.65363477e+04  4.96533129e+04  7.91e+01 1.15e-14  1.10e+02     0s\n",
      "   1   3.59987221e+03  2.71443474e+04  9.41e-14 4.26e-14  1.33e+01     0s\n",
      "\n",
      "Barrier performed 1 iterations in 0.11 seconds (0.09 work units)\n",
      "Barrier solve interrupted - model solved by another algorithm\n",
      "\n",
      "\n",
      "Solved with dual simplex\n",
      "Iteration    Objective       Primal Inf.    Dual Inf.      Time\n",
      "    1130    6.2423086e+03   0.000000e+00   0.000000e+00      0s\n",
      "\n",
      "Solved in 1130 iterations and 0.13 seconds (0.09 work units)\n",
      "Optimal objective  6.242308566e+03\n"
     ]
    },
    {
     "data": {
      "application/vnd.jupyter.widget-view+json": {
       "model_id": "b135f264d4644c6ab3d670ade26dcc87",
       "version_major": 2,
       "version_minor": 0
      },
      "text/plain": [
       "  0%|          | 0/56 [00:00<?, ?it/s]"
      ]
     },
     "metadata": {},
     "output_type": "display_data"
    },
    {
     "data": {
      "application/vnd.jupyter.widget-view+json": {
       "model_id": "af51582a2b7a4f4e9aaf762092a5b5b8",
       "version_major": 2,
       "version_minor": 0
      },
      "text/plain": [
       "  0%|          | 0/1074 [00:00<?, ?it/s]"
      ]
     },
     "metadata": {},
     "output_type": "display_data"
    },
    {
     "data": {
      "application/vnd.jupyter.widget-view+json": {
       "model_id": "b5d9486778b6486cbd1f2e1e2c8a2af7",
       "version_major": 2,
       "version_minor": 0
      },
      "text/plain": [
       "  0%|          | 0/1130 [00:00<?, ?it/s]"
      ]
     },
     "metadata": {},
     "output_type": "display_data"
    },
    {
     "name": "stdout",
     "output_type": "stream",
     "text": [
      "Runing fairness optimisation on 'CP', 0.05, 0.05\n",
      "Set parameter WLSAccessID\n",
      "Set parameter WLSSecret\n",
      "Set parameter LicenseID to value 2384212\n",
      "Academic license - for non-commercial use only - registered to timvnb@gmail.com\n",
      "Warning for adding constraints: zero or small (< 1e-13) coefficients, ignored\n",
      "Set parameter NodeLimit to value 1073741824\n",
      "Set parameter SolutionLimit to value 1073741824\n",
      "Set parameter IntFeasTol to value 1e-06\n",
      "Set parameter Method to value 3\n",
      "Gurobi Optimizer version 10.0.1 build v10.0.1rc0 (linux64)\n",
      "\n",
      "CPU model: Intel(R) Core(TM) i7-8750H CPU @ 2.20GHz, instruction set [SSE2|AVX|AVX2]\n",
      "Thread count: 6 physical cores, 12 logical processors, using up to 12 threads\n",
      "\n",
      "Academic license - for non-commercial use only - registered to timvnb@gmail.com\n",
      "Optimize a model with 62158 rows, 61028 columns and 213138 nonzeros\n",
      "Model fingerprint: 0x4127d9ad\n",
      "Coefficient statistics:\n",
      "  Matrix range     [5e-03, 1e+00]\n",
      "  Objective range  [1e-02, 9e-01]\n",
      "  Bounds range     [0e+00, 0e+00]\n",
      "  RHS range        [1e+00, 1e+01]\n",
      "Presolve removed 61028 rows and 4528 columns\n",
      "Presolve time: 0.07s\n",
      "Presolved: 1130 rows, 56500 columns, 56500 nonzeros\n",
      "\n",
      "Concurrent LP optimizer: primal simplex, dual simplex, and barrier\n",
      "Showing barrier log only...\n",
      "\n",
      "Ordering time: 0.00s\n",
      "\n",
      "Barrier statistics:\n",
      " AA' NZ     : 0.000e+00\n",
      " Factor NZ  : 1.130e+03 (roughly 23 MB of memory)\n",
      " Factor Ops : 1.130e+03 (less than 1 second per iteration)\n",
      " Threads    : 1\n",
      "\n",
      "                  Objective                Residual\n",
      "Iter       Primal          Dual         Primal    Dual     Compl     Time\n",
      "   0   2.57059009e+04  5.14395609e+04  7.91e+01 1.15e-14  1.14e+02     0s\n",
      "   1   3.48787064e+03  2.80090095e+04  7.11e-14 5.33e-14  1.39e+01     0s\n",
      "   2   4.71661979e+03  8.66887023e+03  8.88e-15 2.84e-14  2.24e+00     0s\n",
      "\n",
      "Barrier performed 2 iterations in 0.12 seconds (0.10 work units)\n",
      "Barrier solve interrupted - model solved by another algorithm\n",
      "\n",
      "\n",
      "Solved with dual simplex\n",
      "Iteration    Objective       Primal Inf.    Dual Inf.      Time\n",
      "    1130    6.1577977e+03   0.000000e+00   0.000000e+00      0s\n",
      "\n",
      "Solved in 1130 iterations and 0.15 seconds (0.09 work units)\n",
      "Optimal objective  6.157797731e+03\n"
     ]
    },
    {
     "data": {
      "application/vnd.jupyter.widget-view+json": {
       "model_id": "20494b079ced41a48d450adbfca9bf08",
       "version_major": 2,
       "version_minor": 0
      },
      "text/plain": [
       "  0%|          | 0/56 [00:00<?, ?it/s]"
      ]
     },
     "metadata": {},
     "output_type": "display_data"
    },
    {
     "data": {
      "application/vnd.jupyter.widget-view+json": {
       "model_id": "ae09d1669ae94ad4af1a09c281bad96e",
       "version_major": 2,
       "version_minor": 0
      },
      "text/plain": [
       "  0%|          | 0/1074 [00:00<?, ?it/s]"
      ]
     },
     "metadata": {},
     "output_type": "display_data"
    },
    {
     "data": {
      "application/vnd.jupyter.widget-view+json": {
       "model_id": "62bf18bf4ae54da1848c0ca32b7dc167",
       "version_major": 2,
       "version_minor": 0
      },
      "text/plain": [
       "  0%|          | 0/1130 [00:00<?, ?it/s]"
      ]
     },
     "metadata": {},
     "output_type": "display_data"
    },
    {
     "name": "stdout",
     "output_type": "stream",
     "text": [
      "Datasets: Epinion\n",
      "rating_threshold = 1.0\n",
      "exclude_unknowns = True\n",
      "---\n",
      "Training data:\n",
      "Number of users = 2677\n",
      "Number of items = 2060\n",
      "Number of ratings = 72496\n",
      "Max rating = 5.0\n",
      "Min rating = 1.0\n",
      "Global mean = 3.8\n",
      "---\n",
      "Test data:\n",
      "Number of users = 2672\n",
      "Number of items = 2057\n",
      "Number of ratings = 20714\n",
      "Number of unknown users = 0\n",
      "Number of unknown items = 0\n",
      "---\n",
      "Total users = 2677\n",
      "Total items = 2060\n",
      "\n",
      "[WMF] Training started!\n"
     ]
    },
    {
     "data": {
      "application/vnd.jupyter.widget-view+json": {
       "model_id": "920c8c2d38c44fd3a1af1084456d6524",
       "version_major": 2,
       "version_minor": 0
      },
      "text/plain": [
       "  0%|          | 0/50 [00:00<?, ?it/s]"
      ]
     },
     "metadata": {},
     "output_type": "display_data"
    },
    {
     "name": "stdout",
     "output_type": "stream",
     "text": [
      "Learning completed!\n",
      "\n",
      "[WMF] Evaluation started!\n"
     ]
    },
    {
     "data": {
      "application/vnd.jupyter.widget-view+json": {
       "model_id": "6561204210aa497ba943145e8c1f46c0",
       "version_major": 2,
       "version_minor": 0
      },
      "text/plain": [
       "Ranking:   0%|          | 0/2672 [00:00<?, ?it/s]"
      ]
     },
     "metadata": {},
     "output_type": "display_data"
    },
    {
     "name": "stdout",
     "output_type": "stream",
     "text": [
      "\n",
      "[PF] Training started!\n",
      "Learning...\n",
      "Learning completed!\n",
      "\n",
      "[PF] Evaluation started!\n"
     ]
    },
    {
     "data": {
      "application/vnd.jupyter.widget-view+json": {
       "model_id": "9d1e5eb0e246490ba0c11c7835769298",
       "version_major": 2,
       "version_minor": 0
      },
      "text/plain": [
       "Ranking:   0%|          | 0/2672 [00:00<?, ?it/s]"
      ]
     },
     "metadata": {},
     "output_type": "display_data"
    },
    {
     "name": "stdout",
     "output_type": "stream",
     "text": [
      "\n",
      "[VAECF] Training started!\n"
     ]
    },
    {
     "data": {
      "application/vnd.jupyter.widget-view+json": {
       "model_id": "7ab1e3cc14dd49febda856be84415093",
       "version_major": 2,
       "version_minor": 0
      },
      "text/plain": [
       "  0%|          | 0/100 [00:00<?, ?it/s]"
      ]
     },
     "metadata": {},
     "output_type": "display_data"
    },
    {
     "name": "stdout",
     "output_type": "stream",
     "text": [
      "\n",
      "[VAECF] Evaluation started!\n"
     ]
    },
    {
     "data": {
      "application/vnd.jupyter.widget-view+json": {
       "model_id": "80f76c7b4bc24099ba372535a6894b3b",
       "version_major": 2,
       "version_minor": 0
      },
      "text/plain": [
       "Ranking:   0%|          | 0/2672 [00:00<?, ?it/s]"
      ]
     },
     "metadata": {},
     "output_type": "display_data"
    },
    {
     "name": "stdout",
     "output_type": "stream",
     "text": [
      "\n",
      "[NeuMF] Training started!\n"
     ]
    },
    {
     "data": {
      "application/vnd.jupyter.widget-view+json": {
       "model_id": "2f29bfaa39fe425e9d52fbcdaa8ab1d6",
       "version_major": 2,
       "version_minor": 0
      },
      "text/plain": [
       "  0%|          | 0/5 [00:00<?, ?it/s]"
      ]
     },
     "metadata": {},
     "output_type": "display_data"
    },
    {
     "name": "stdout",
     "output_type": "stream",
     "text": [
      "\n",
      "[NeuMF] Evaluation started!\n"
     ]
    },
    {
     "data": {
      "application/vnd.jupyter.widget-view+json": {
       "model_id": "87d238363a00463a8b0759442bac4482",
       "version_major": 2,
       "version_minor": 0
      },
      "text/plain": [
       "Ranking:   0%|          | 0/2672 [00:00<?, ?it/s]"
      ]
     },
     "metadata": {},
     "output_type": "display_data"
    },
    {
     "name": "stdout",
     "output_type": "stream",
     "text": [
      "\n",
      "TEST:\n",
      "...\n",
      "      |    AUC |    MAP |    MRR | NDCG@10 | Recall@10 | Train (s) | Test (s)\n",
      "----- + ------ + ------ + ------ + ------- + --------- + --------- + --------\n",
      "WMF   | 0.7573 | 0.0309 | 0.0928 |  0.0348 |    0.0396 |    7.4873 |  19.5002\n",
      "PF    | 0.7732 | 0.0439 | 0.1359 |  0.0531 |    0.0546 |   79.6047 |  19.0536\n",
      "VAECF | 0.8215 | 0.0549 | 0.1713 |  0.0707 |    0.0744 |   19.5507 |   5.3000\n",
      "NeuMF | 0.7968 | 0.0486 | 0.1588 |  0.0641 |    0.0656 |   32.4722 |   5.5397\n",
      "\n",
      "ActiveU: 134,                       InActive: 2543,                         All: 2677\n",
      "No. of Shorthead Items: 412                           and No. of Longtaill Items: 1648\n",
      "> Model: WMF\n",
      "WMF\n"
     ]
    },
    {
     "data": {
      "application/vnd.jupyter.widget-view+json": {
       "model_id": "bf7ebe74687a4484951b6449decb79f4",
       "version_major": 2,
       "version_minor": 0
      },
      "text/plain": [
       "  0%|          | 0/2677 [00:00<?, ?it/s]"
      ]
     },
     "metadata": {},
     "output_type": "display_data"
    },
    {
     "data": {
      "application/vnd.jupyter.widget-view+json": {
       "model_id": "a0889ed6cb444920a5de5db1049d12b4",
       "version_major": 2,
       "version_minor": 0
      },
      "text/plain": [
       "  0%|          | 0/2677 [00:00<?, ?it/s]"
      ]
     },
     "metadata": {},
     "output_type": "display_data"
    },
    {
     "name": "stdout",
     "output_type": "stream",
     "text": [
      "Runing fairness optimisation on 'N', None, None\n",
      "Set parameter WLSAccessID\n",
      "Set parameter WLSSecret\n",
      "Set parameter LicenseID to value 2384212\n",
      "Academic license - for non-commercial use only - registered to timvnb@gmail.com\n",
      "Warning for adding constraints: zero or small (< 1e-13) coefficients, ignored\n",
      "Set parameter NodeLimit to value 1073741824\n",
      "Set parameter SolutionLimit to value 1073741824\n",
      "Set parameter IntFeasTol to value 1e-06\n",
      "Set parameter Method to value 3\n",
      "Gurobi Optimizer version 10.0.1 build v10.0.1rc0 (linux64)\n",
      "\n",
      "CPU model: Intel(R) Core(TM) i7-8750H CPU @ 2.20GHz, instruction set [SSE2|AVX|AVX2]\n",
      "Thread count: 6 physical cores, 12 logical processors, using up to 12 threads\n",
      "\n",
      "Academic license - for non-commercial use only - registered to timvnb@gmail.com\n",
      "Optimize a model with 147243 rows, 144566 columns and 468589 nonzeros\n",
      "Model fingerprint: 0x7065eda5\n",
      "Coefficient statistics:\n",
      "  Matrix range     [4e-03, 1e+00]\n",
      "  Objective range  [4e-05, 6e+00]\n",
      "  Bounds range     [0e+00, 0e+00]\n",
      "  RHS range        [1e+00, 1e+01]\n",
      "Presolve removed 144566 rows and 10716 columns\n",
      "Presolve time: 0.33s\n",
      "Presolved: 2677 rows, 133850 columns, 133850 nonzeros\n",
      "\n",
      "Concurrent LP optimizer: primal simplex, dual simplex, and barrier\n",
      "Showing barrier log only...\n",
      "\n",
      "Ordering time: 0.00s\n",
      "\n",
      "Barrier statistics:\n",
      " AA' NZ     : 0.000e+00\n",
      " Factor NZ  : 2.677e+03 (roughly 50 MB of memory)\n",
      " Factor Ops : 2.677e+03 (less than 1 second per iteration)\n",
      " Threads    : 1\n",
      "\n",
      "                  Objective                Residual\n",
      "Iter       Primal          Dual         Primal    Dual     Compl     Time\n",
      "   0   4.28495995e+05  6.20255470e+05  7.91e+01 1.78e-15  3.56e+01     0s\n",
      "   1   5.31340678e+04  3.43438382e+05  1.31e-13 1.60e-14  4.34e+00     0s\n",
      "\n",
      "Barrier performed 1 iterations in 0.44 seconds (0.35 work units)\n",
      "Barrier solve interrupted - model solved by another algorithm\n",
      "\n",
      "\n",
      "Solved with dual simplex\n",
      "Iteration    Objective       Primal Inf.    Dual Inf.      Time\n",
      "    2677    7.6429231e+04   0.000000e+00   0.000000e+00      1s\n",
      "\n",
      "Solved in 2677 iterations and 0.50 seconds (0.37 work units)\n",
      "Optimal objective  7.642923135e+04\n"
     ]
    },
    {
     "data": {
      "application/vnd.jupyter.widget-view+json": {
       "model_id": "09777ff34b1342658a56225ca6201a24",
       "version_major": 2,
       "version_minor": 0
      },
      "text/plain": [
       "  0%|          | 0/134 [00:00<?, ?it/s]"
      ]
     },
     "metadata": {},
     "output_type": "display_data"
    },
    {
     "data": {
      "application/vnd.jupyter.widget-view+json": {
       "model_id": "46d48d47a08a416a8dbd25e01b2bc1d9",
       "version_major": 2,
       "version_minor": 0
      },
      "text/plain": [
       "  0%|          | 0/2543 [00:00<?, ?it/s]"
      ]
     },
     "metadata": {},
     "output_type": "display_data"
    },
    {
     "data": {
      "application/vnd.jupyter.widget-view+json": {
       "model_id": "e630dce34849498eb953e22c84e8824b",
       "version_major": 2,
       "version_minor": 0
      },
      "text/plain": [
       "  0%|          | 0/2677 [00:00<?, ?it/s]"
      ]
     },
     "metadata": {},
     "output_type": "display_data"
    },
    {
     "name": "stdout",
     "output_type": "stream",
     "text": [
      "Runing fairness optimisation on 'C', 0.05, None\n",
      "Set parameter WLSAccessID\n",
      "Set parameter WLSSecret\n",
      "Set parameter LicenseID to value 2384212\n",
      "Academic license - for non-commercial use only - registered to timvnb@gmail.com\n",
      "Warning for adding constraints: zero or small (< 1e-13) coefficients, ignored\n",
      "Set parameter NodeLimit to value 1073741824\n",
      "Set parameter SolutionLimit to value 1073741824\n",
      "Set parameter IntFeasTol to value 1e-06\n",
      "Set parameter Method to value 3\n",
      "Gurobi Optimizer version 10.0.1 build v10.0.1rc0 (linux64)\n",
      "\n",
      "CPU model: Intel(R) Core(TM) i7-8750H CPU @ 2.20GHz, instruction set [SSE2|AVX|AVX2]\n",
      "Thread count: 6 physical cores, 12 logical processors, using up to 12 threads\n",
      "\n",
      "Academic license - for non-commercial use only - registered to timvnb@gmail.com\n",
      "Optimize a model with 147243 rows, 144566 columns and 468589 nonzeros\n",
      "Model fingerprint: 0xfc5c028c\n",
      "Coefficient statistics:\n",
      "  Matrix range     [4e-03, 1e+00]\n",
      "  Objective range  [4e-05, 6e+00]\n",
      "  Bounds range     [0e+00, 0e+00]\n",
      "  RHS range        [1e+00, 1e+01]\n",
      "Presolve removed 144566 rows and 10716 columns\n",
      "Presolve time: 0.36s\n",
      "Presolved: 2677 rows, 133850 columns, 133850 nonzeros\n",
      "\n",
      "Concurrent LP optimizer: primal simplex, dual simplex, and barrier\n",
      "Showing barrier log only...\n",
      "\n",
      "Ordering time: 0.00s\n",
      "\n",
      "Barrier statistics:\n",
      " AA' NZ     : 0.000e+00\n",
      " Factor NZ  : 2.677e+03 (roughly 50 MB of memory)\n",
      " Factor Ops : 2.677e+03 (less than 1 second per iteration)\n",
      " Threads    : 1\n",
      "\n",
      "                  Objective                Residual\n",
      "Iter       Primal          Dual         Primal    Dual     Compl     Time\n",
      "   0   4.27442570e+05  6.22943335e+05  7.91e+01 2.66e-15  3.58e+01     0s\n",
      "   1   5.29903307e+04  3.44751158e+05  8.70e-14 1.51e-14  4.36e+00     0s\n",
      "\n",
      "Barrier performed 1 iterations in 0.48 seconds (0.35 work units)\n",
      "Barrier solve interrupted - model solved by another algorithm\n",
      "\n",
      "\n",
      "Solved with dual simplex\n",
      "Iteration    Objective       Primal Inf.    Dual Inf.      Time\n",
      "    2677    7.6303376e+04   0.000000e+00   0.000000e+00      1s\n",
      "\n",
      "Solved in 2677 iterations and 0.56 seconds (0.37 work units)\n",
      "Optimal objective  7.630337567e+04\n"
     ]
    },
    {
     "data": {
      "application/vnd.jupyter.widget-view+json": {
       "model_id": "d6e8abadc7934e7b9f614d15187a8805",
       "version_major": 2,
       "version_minor": 0
      },
      "text/plain": [
       "  0%|          | 0/134 [00:00<?, ?it/s]"
      ]
     },
     "metadata": {},
     "output_type": "display_data"
    },
    {
     "data": {
      "application/vnd.jupyter.widget-view+json": {
       "model_id": "52574bf9510040bea4898a73a04cad49",
       "version_major": 2,
       "version_minor": 0
      },
      "text/plain": [
       "  0%|          | 0/2543 [00:00<?, ?it/s]"
      ]
     },
     "metadata": {},
     "output_type": "display_data"
    },
    {
     "data": {
      "application/vnd.jupyter.widget-view+json": {
       "model_id": "b761b13eabab4bf6b2373afed7f3c126",
       "version_major": 2,
       "version_minor": 0
      },
      "text/plain": [
       "  0%|          | 0/2677 [00:00<?, ?it/s]"
      ]
     },
     "metadata": {},
     "output_type": "display_data"
    },
    {
     "name": "stdout",
     "output_type": "stream",
     "text": [
      "Runing fairness optimisation on 'P', None, 0.05\n",
      "Set parameter WLSAccessID\n",
      "Set parameter WLSSecret\n",
      "Set parameter LicenseID to value 2384212\n",
      "Academic license - for non-commercial use only - registered to timvnb@gmail.com\n",
      "Warning for adding constraints: zero or small (< 1e-13) coefficients, ignored\n",
      "Set parameter NodeLimit to value 1073741824\n",
      "Set parameter SolutionLimit to value 1073741824\n",
      "Set parameter IntFeasTol to value 1e-06\n",
      "Set parameter Method to value 3\n",
      "Gurobi Optimizer version 10.0.1 build v10.0.1rc0 (linux64)\n",
      "\n",
      "CPU model: Intel(R) Core(TM) i7-8750H CPU @ 2.20GHz, instruction set [SSE2|AVX|AVX2]\n",
      "Thread count: 6 physical cores, 12 logical processors, using up to 12 threads\n",
      "\n",
      "Academic license - for non-commercial use only - registered to timvnb@gmail.com\n",
      "Optimize a model with 147243 rows, 144566 columns and 468589 nonzeros\n",
      "Model fingerprint: 0xd405a27e\n",
      "Coefficient statistics:\n",
      "  Matrix range     [4e-03, 1e+00]\n",
      "  Objective range  [4e-05, 6e+00]\n",
      "  Bounds range     [0e+00, 0e+00]\n",
      "  RHS range        [1e+00, 1e+01]\n",
      "Presolve removed 144566 rows and 10716 columns\n",
      "Presolve time: 0.34s\n",
      "Presolved: 2677 rows, 133850 columns, 133850 nonzeros\n",
      "\n",
      "Concurrent LP optimizer: primal simplex, dual simplex, and barrier\n",
      "Showing barrier log only...\n",
      "\n",
      "Ordering time: 0.00s\n",
      "\n",
      "Barrier statistics:\n",
      " AA' NZ     : 0.000e+00\n",
      " Factor NZ  : 2.677e+03 (roughly 50 MB of memory)\n",
      " Factor Ops : 2.677e+03 (less than 1 second per iteration)\n",
      " Threads    : 1\n",
      "\n",
      "                  Objective                Residual\n",
      "Iter       Primal          Dual         Primal    Dual     Compl     Time\n",
      "   0   4.17989000e+05  6.16561415e+05  7.91e+01 2.89e-15  3.54e+01     0s\n",
      "   1   5.19840893e+04  3.40978882e+05  1.01e-13 1.42e-14  4.32e+00     0s\n",
      "\n",
      "Barrier performed 1 iterations in 0.47 seconds (0.35 work units)\n",
      "Barrier solve interrupted - model solved by another algorithm\n",
      "\n",
      "\n",
      "Solved with dual simplex\n",
      "Iteration    Objective       Primal Inf.    Dual Inf.      Time\n",
      "    2677    7.5259454e+04   0.000000e+00   0.000000e+00      1s\n",
      "\n",
      "Solved in 2677 iterations and 0.53 seconds (0.37 work units)\n",
      "Optimal objective  7.525945366e+04\n"
     ]
    },
    {
     "data": {
      "application/vnd.jupyter.widget-view+json": {
       "model_id": "614ef213a1b544b7852a01820a49888d",
       "version_major": 2,
       "version_minor": 0
      },
      "text/plain": [
       "  0%|          | 0/134 [00:00<?, ?it/s]"
      ]
     },
     "metadata": {},
     "output_type": "display_data"
    },
    {
     "data": {
      "application/vnd.jupyter.widget-view+json": {
       "model_id": "f6b91bcd5bcc430db35ec766089dfbb3",
       "version_major": 2,
       "version_minor": 0
      },
      "text/plain": [
       "  0%|          | 0/2543 [00:00<?, ?it/s]"
      ]
     },
     "metadata": {},
     "output_type": "display_data"
    },
    {
     "data": {
      "application/vnd.jupyter.widget-view+json": {
       "model_id": "86a2ef1ea4424fef88a06cf959e8b0fe",
       "version_major": 2,
       "version_minor": 0
      },
      "text/plain": [
       "  0%|          | 0/2677 [00:00<?, ?it/s]"
      ]
     },
     "metadata": {},
     "output_type": "display_data"
    },
    {
     "name": "stdout",
     "output_type": "stream",
     "text": [
      "Runing fairness optimisation on 'CP', 0.05, 0.05\n",
      "Set parameter WLSAccessID\n",
      "Set parameter WLSSecret\n",
      "Set parameter LicenseID to value 2384212\n",
      "Academic license - for non-commercial use only - registered to timvnb@gmail.com\n",
      "Warning for adding constraints: zero or small (< 1e-13) coefficients, ignored\n",
      "Set parameter NodeLimit to value 1073741824\n",
      "Set parameter SolutionLimit to value 1073741824\n",
      "Set parameter IntFeasTol to value 1e-06\n",
      "Set parameter Method to value 3\n",
      "Gurobi Optimizer version 10.0.1 build v10.0.1rc0 (linux64)\n",
      "\n",
      "CPU model: Intel(R) Core(TM) i7-8750H CPU @ 2.20GHz, instruction set [SSE2|AVX|AVX2]\n",
      "Thread count: 6 physical cores, 12 logical processors, using up to 12 threads\n",
      "\n",
      "Academic license - for non-commercial use only - registered to timvnb@gmail.com\n",
      "Optimize a model with 147243 rows, 144566 columns and 468589 nonzeros\n",
      "Model fingerprint: 0xb9bce3d1\n",
      "Coefficient statistics:\n",
      "  Matrix range     [4e-03, 1e+00]\n",
      "  Objective range  [4e-05, 6e+00]\n",
      "  Bounds range     [0e+00, 0e+00]\n",
      "  RHS range        [1e+00, 1e+01]\n",
      "Presolve removed 144566 rows and 10716 columns\n",
      "Presolve time: 0.33s\n",
      "Presolved: 2677 rows, 133850 columns, 133850 nonzeros\n",
      "\n",
      "Concurrent LP optimizer: primal simplex, dual simplex, and barrier\n",
      "Showing barrier log only...\n",
      "\n",
      "Ordering time: 0.00s\n",
      "\n",
      "Barrier statistics:\n",
      " AA' NZ     : 0.000e+00\n",
      " Factor NZ  : 2.677e+03 (roughly 50 MB of memory)\n",
      " Factor Ops : 2.677e+03 (less than 1 second per iteration)\n",
      " Threads    : 1\n",
      "\n",
      "                  Objective                Residual\n",
      "Iter       Primal          Dual         Primal    Dual     Compl     Time\n",
      "   0   4.16935575e+05  6.19258965e+05  7.91e+01 4.66e-15  3.56e+01     0s\n",
      "   1   5.18397761e+04  3.42296426e+05  4.26e-14 1.42e-14  4.34e+00     0s\n",
      "\n",
      "Barrier performed 1 iterations in 0.46 seconds (0.35 work units)\n",
      "Barrier solve interrupted - model solved by another algorithm\n",
      "\n",
      "\n",
      "Solved with dual simplex\n",
      "Iteration    Objective       Primal Inf.    Dual Inf.      Time\n",
      "    2677    7.5133254e+04   0.000000e+00   0.000000e+00      1s\n",
      "\n",
      "Solved in 2677 iterations and 0.53 seconds (0.37 work units)\n",
      "Optimal objective  7.513325428e+04\n"
     ]
    },
    {
     "data": {
      "application/vnd.jupyter.widget-view+json": {
       "model_id": "18f7200db94749ad98fdef7195098d1e",
       "version_major": 2,
       "version_minor": 0
      },
      "text/plain": [
       "  0%|          | 0/134 [00:00<?, ?it/s]"
      ]
     },
     "metadata": {},
     "output_type": "display_data"
    },
    {
     "data": {
      "application/vnd.jupyter.widget-view+json": {
       "model_id": "3299e21f94ba468ca1f938b5493d260b",
       "version_major": 2,
       "version_minor": 0
      },
      "text/plain": [
       "  0%|          | 0/2543 [00:00<?, ?it/s]"
      ]
     },
     "metadata": {},
     "output_type": "display_data"
    },
    {
     "data": {
      "application/vnd.jupyter.widget-view+json": {
       "model_id": "91f610064b9b44f9a209b860570552b7",
       "version_major": 2,
       "version_minor": 0
      },
      "text/plain": [
       "  0%|          | 0/2677 [00:00<?, ?it/s]"
      ]
     },
     "metadata": {},
     "output_type": "display_data"
    },
    {
     "name": "stdout",
     "output_type": "stream",
     "text": [
      "> Model: PF\n",
      "PF\n"
     ]
    },
    {
     "data": {
      "application/vnd.jupyter.widget-view+json": {
       "model_id": "7259056d7dd540ca8947c87c75b682eb",
       "version_major": 2,
       "version_minor": 0
      },
      "text/plain": [
       "  0%|          | 0/2677 [00:00<?, ?it/s]"
      ]
     },
     "metadata": {},
     "output_type": "display_data"
    },
    {
     "data": {
      "application/vnd.jupyter.widget-view+json": {
       "model_id": "ae2f6126d9a24b638cf4969f239f640d",
       "version_major": 2,
       "version_minor": 0
      },
      "text/plain": [
       "  0%|          | 0/2677 [00:00<?, ?it/s]"
      ]
     },
     "metadata": {},
     "output_type": "display_data"
    },
    {
     "name": "stdout",
     "output_type": "stream",
     "text": [
      "Runing fairness optimisation on 'N', None, None\n",
      "Set parameter WLSAccessID\n",
      "Set parameter WLSSecret\n",
      "Set parameter LicenseID to value 2384212\n",
      "Academic license - for non-commercial use only - registered to timvnb@gmail.com\n",
      "Warning for adding constraints: zero or small (< 1e-13) coefficients, ignored\n",
      "Set parameter NodeLimit to value 1073741824\n",
      "Set parameter SolutionLimit to value 1073741824\n",
      "Set parameter IntFeasTol to value 1e-06\n",
      "Set parameter Method to value 3\n",
      "Gurobi Optimizer version 10.0.1 build v10.0.1rc0 (linux64)\n",
      "\n",
      "CPU model: Intel(R) Core(TM) i7-8750H CPU @ 2.20GHz, instruction set [SSE2|AVX|AVX2]\n",
      "Thread count: 6 physical cores, 12 logical processors, using up to 12 threads\n",
      "\n",
      "Academic license - for non-commercial use only - registered to timvnb@gmail.com\n",
      "Optimize a model with 147243 rows, 144566 columns and 483838 nonzeros\n",
      "Model fingerprint: 0xbe57fba4\n",
      "Coefficient statistics:\n",
      "  Matrix range     [4e-03, 1e+00]\n",
      "  Objective range  [4e-03, 2e+01]\n",
      "  Bounds range     [0e+00, 0e+00]\n",
      "  RHS range        [1e+00, 1e+01]\n",
      "Presolve removed 144566 rows and 10716 columns\n",
      "Presolve time: 0.35s\n",
      "Presolved: 2677 rows, 133850 columns, 133850 nonzeros\n",
      "\n",
      "Concurrent LP optimizer: primal simplex, dual simplex, and barrier\n",
      "Showing barrier log only...\n",
      "\n",
      "Ordering time: 0.01s\n",
      "\n",
      "Barrier statistics:\n",
      " AA' NZ     : 0.000e+00\n",
      " Factor NZ  : 2.677e+03 (roughly 50 MB of memory)\n",
      " Factor Ops : 2.677e+03 (less than 1 second per iteration)\n",
      " Threads    : 1\n",
      "\n",
      "                  Objective                Residual\n",
      "Iter       Primal          Dual         Primal    Dual     Compl     Time\n",
      "   0   2.76445525e+04  3.51502639e+06  7.91e+01 1.78e-15  5.46e+01     0s\n",
      "   1   3.24062823e+03  1.80522380e+06  6.57e-14 2.28e-14  6.73e+00     1s\n",
      "\n",
      "Barrier performed 1 iterations in 0.50 seconds (0.36 work units)\n",
      "Barrier solve interrupted - model solved by another algorithm\n",
      "\n",
      "\n",
      "Solved with dual simplex\n",
      "Iteration    Objective       Primal Inf.    Dual Inf.      Time\n",
      "    2677    1.1739911e+04   0.000000e+00   0.000000e+00      1s\n",
      "\n",
      "Solved in 2677 iterations and 0.59 seconds (0.38 work units)\n",
      "Optimal objective  1.173991063e+04\n"
     ]
    },
    {
     "data": {
      "application/vnd.jupyter.widget-view+json": {
       "model_id": "cfac5c551fa2402eb55acbd80b310672",
       "version_major": 2,
       "version_minor": 0
      },
      "text/plain": [
       "  0%|          | 0/134 [00:00<?, ?it/s]"
      ]
     },
     "metadata": {},
     "output_type": "display_data"
    },
    {
     "data": {
      "application/vnd.jupyter.widget-view+json": {
       "model_id": "3ea49bf6330941aa81beeb218849e51b",
       "version_major": 2,
       "version_minor": 0
      },
      "text/plain": [
       "  0%|          | 0/2543 [00:00<?, ?it/s]"
      ]
     },
     "metadata": {},
     "output_type": "display_data"
    },
    {
     "data": {
      "application/vnd.jupyter.widget-view+json": {
       "model_id": "9324cdce5a904e778e2eaec80c861cb7",
       "version_major": 2,
       "version_minor": 0
      },
      "text/plain": [
       "  0%|          | 0/2677 [00:00<?, ?it/s]"
      ]
     },
     "metadata": {},
     "output_type": "display_data"
    },
    {
     "name": "stdout",
     "output_type": "stream",
     "text": [
      "Runing fairness optimisation on 'C', 0.05, None\n",
      "Set parameter WLSAccessID\n",
      "Set parameter WLSSecret\n",
      "Set parameter LicenseID to value 2384212\n",
      "Academic license - for non-commercial use only - registered to timvnb@gmail.com\n",
      "Warning for adding constraints: zero or small (< 1e-13) coefficients, ignored\n",
      "Set parameter NodeLimit to value 1073741824\n",
      "Set parameter SolutionLimit to value 1073741824\n",
      "Set parameter IntFeasTol to value 1e-06\n",
      "Set parameter Method to value 3\n",
      "Gurobi Optimizer version 10.0.1 build v10.0.1rc0 (linux64)\n",
      "\n",
      "CPU model: Intel(R) Core(TM) i7-8750H CPU @ 2.20GHz, instruction set [SSE2|AVX|AVX2]\n",
      "Thread count: 6 physical cores, 12 logical processors, using up to 12 threads\n",
      "\n",
      "Academic license - for non-commercial use only - registered to timvnb@gmail.com\n",
      "Optimize a model with 147243 rows, 144566 columns and 483838 nonzeros\n",
      "Model fingerprint: 0xa2c9b9c7\n",
      "Coefficient statistics:\n",
      "  Matrix range     [4e-03, 1e+00]\n",
      "  Objective range  [4e-03, 2e+01]\n",
      "  Bounds range     [0e+00, 0e+00]\n",
      "  RHS range        [1e+00, 1e+01]\n",
      "Presolve removed 144566 rows and 10716 columns\n",
      "Presolve time: 0.33s\n",
      "Presolved: 2677 rows, 133850 columns, 133850 nonzeros\n",
      "\n",
      "Concurrent LP optimizer: primal simplex, dual simplex, and barrier\n",
      "Showing barrier log only...\n",
      "\n",
      "Ordering time: 0.00s\n",
      "\n",
      "Barrier statistics:\n",
      " AA' NZ     : 0.000e+00\n",
      " Factor NZ  : 2.677e+03 (roughly 50 MB of memory)\n",
      " Factor Ops : 2.677e+03 (less than 1 second per iteration)\n",
      " Threads    : 1\n",
      "\n",
      "                  Objective                Residual\n",
      "Iter       Primal          Dual         Primal    Dual     Compl     Time\n",
      "   0   2.62535854e+04  3.51170805e+06  7.91e+01 7.11e-15  2.18e+02     0s\n",
      "   1   3.08451020e+03  1.80344505e+06  3.73e-14 9.97e-14  2.69e+01     0s\n",
      "\n",
      "Barrier performed 1 iterations in 0.46 seconds (0.36 work units)\n",
      "Barrier solve interrupted - model solved by another algorithm\n",
      "\n",
      "\n",
      "Solved with dual simplex\n",
      "Iteration    Objective       Primal Inf.    Dual Inf.      Time\n",
      "    2677    1.1584402e+04   0.000000e+00   0.000000e+00      1s\n",
      "\n",
      "Solved in 2677 iterations and 0.53 seconds (0.38 work units)\n",
      "Optimal objective  1.158440241e+04\n"
     ]
    },
    {
     "data": {
      "application/vnd.jupyter.widget-view+json": {
       "model_id": "5bf0ebe30e80432e8b52ad8fc9c88867",
       "version_major": 2,
       "version_minor": 0
      },
      "text/plain": [
       "  0%|          | 0/134 [00:00<?, ?it/s]"
      ]
     },
     "metadata": {},
     "output_type": "display_data"
    },
    {
     "data": {
      "application/vnd.jupyter.widget-view+json": {
       "model_id": "81bd116b5c974a318c1852c5268d399e",
       "version_major": 2,
       "version_minor": 0
      },
      "text/plain": [
       "  0%|          | 0/2543 [00:00<?, ?it/s]"
      ]
     },
     "metadata": {},
     "output_type": "display_data"
    },
    {
     "data": {
      "application/vnd.jupyter.widget-view+json": {
       "model_id": "f81e763f31094643829a245a93eeff0b",
       "version_major": 2,
       "version_minor": 0
      },
      "text/plain": [
       "  0%|          | 0/2677 [00:00<?, ?it/s]"
      ]
     },
     "metadata": {},
     "output_type": "display_data"
    },
    {
     "name": "stdout",
     "output_type": "stream",
     "text": [
      "Runing fairness optimisation on 'P', None, 0.05\n",
      "Set parameter WLSAccessID\n",
      "Set parameter WLSSecret\n",
      "Set parameter LicenseID to value 2384212\n",
      "Academic license - for non-commercial use only - registered to timvnb@gmail.com\n",
      "Warning for adding constraints: zero or small (< 1e-13) coefficients, ignored\n",
      "Set parameter NodeLimit to value 1073741824\n",
      "Set parameter SolutionLimit to value 1073741824\n",
      "Set parameter IntFeasTol to value 1e-06\n",
      "Set parameter Method to value 3\n",
      "Gurobi Optimizer version 10.0.1 build v10.0.1rc0 (linux64)\n",
      "\n",
      "CPU model: Intel(R) Core(TM) i7-8750H CPU @ 2.20GHz, instruction set [SSE2|AVX|AVX2]\n",
      "Thread count: 6 physical cores, 12 logical processors, using up to 12 threads\n",
      "\n",
      "Academic license - for non-commercial use only - registered to timvnb@gmail.com\n",
      "Optimize a model with 147243 rows, 144566 columns and 483838 nonzeros\n",
      "Model fingerprint: 0xa2b1a607\n",
      "Coefficient statistics:\n",
      "  Matrix range     [4e-03, 1e+00]\n",
      "  Objective range  [4e-03, 2e+01]\n",
      "  Bounds range     [0e+00, 0e+00]\n",
      "  RHS range        [1e+00, 1e+01]\n",
      "Presolve removed 144566 rows and 10716 columns\n",
      "Presolve time: 0.35s\n",
      "Presolved: 2677 rows, 133850 columns, 133850 nonzeros\n",
      "\n",
      "Concurrent LP optimizer: primal simplex, dual simplex, and barrier\n",
      "Showing barrier log only...\n",
      "\n",
      "Ordering time: 0.00s\n",
      "\n",
      "Barrier statistics:\n",
      " AA' NZ     : 0.000e+00\n",
      " Factor NZ  : 2.677e+03 (roughly 50 MB of memory)\n",
      " Factor Ops : 2.677e+03 (less than 1 second per iteration)\n",
      " Threads    : 1\n",
      "\n",
      "                  Objective                Residual\n",
      "Iter       Primal          Dual         Primal    Dual     Compl     Time\n",
      "   0   2.09794202e+04  3.51066426e+06  7.91e+01 7.11e-15  2.18e+02     0s\n",
      "   1   2.49302330e+03  1.80262140e+06  7.11e-14 9.20e-14  2.69e+01     0s\n",
      "   2   2.77412307e+03  3.01470850e+05  1.07e-14 4.92e-14  4.46e+00     1s\n",
      "\n",
      "Barrier performed 2 iterations in 0.52 seconds (0.38 work units)\n",
      "Barrier solve interrupted - model solved by another algorithm\n",
      "\n",
      "\n",
      "Solved with dual simplex\n",
      "Iteration    Objective       Primal Inf.    Dual Inf.      Time\n",
      "    2677    1.1168740e+04   0.000000e+00   0.000000e+00      1s\n",
      "\n",
      "Solved in 2677 iterations and 0.60 seconds (0.38 work units)\n",
      "Optimal objective  1.116874035e+04\n"
     ]
    },
    {
     "data": {
      "application/vnd.jupyter.widget-view+json": {
       "model_id": "52dcf70a1151490dbd3af005ddc156a7",
       "version_major": 2,
       "version_minor": 0
      },
      "text/plain": [
       "  0%|          | 0/134 [00:00<?, ?it/s]"
      ]
     },
     "metadata": {},
     "output_type": "display_data"
    },
    {
     "data": {
      "application/vnd.jupyter.widget-view+json": {
       "model_id": "b2597aa20e4d4bcb9538bdd7fe947f56",
       "version_major": 2,
       "version_minor": 0
      },
      "text/plain": [
       "  0%|          | 0/2543 [00:00<?, ?it/s]"
      ]
     },
     "metadata": {},
     "output_type": "display_data"
    },
    {
     "data": {
      "application/vnd.jupyter.widget-view+json": {
       "model_id": "c7b8c88af9674d61ad881faa77217bb6",
       "version_major": 2,
       "version_minor": 0
      },
      "text/plain": [
       "  0%|          | 0/2677 [00:00<?, ?it/s]"
      ]
     },
     "metadata": {},
     "output_type": "display_data"
    },
    {
     "name": "stdout",
     "output_type": "stream",
     "text": [
      "Runing fairness optimisation on 'CP', 0.05, 0.05\n",
      "Set parameter WLSAccessID\n",
      "Set parameter WLSSecret\n",
      "Set parameter LicenseID to value 2384212\n",
      "Academic license - for non-commercial use only - registered to timvnb@gmail.com\n",
      "Warning for adding constraints: zero or small (< 1e-13) coefficients, ignored\n",
      "Set parameter NodeLimit to value 1073741824\n",
      "Set parameter SolutionLimit to value 1073741824\n",
      "Set parameter IntFeasTol to value 1e-06\n",
      "Set parameter Method to value 3\n",
      "Gurobi Optimizer version 10.0.1 build v10.0.1rc0 (linux64)\n",
      "\n",
      "CPU model: Intel(R) Core(TM) i7-8750H CPU @ 2.20GHz, instruction set [SSE2|AVX|AVX2]\n",
      "Thread count: 6 physical cores, 12 logical processors, using up to 12 threads\n",
      "\n",
      "Academic license - for non-commercial use only - registered to timvnb@gmail.com\n",
      "Optimize a model with 147243 rows, 144566 columns and 483838 nonzeros\n",
      "Model fingerprint: 0x29cf4e07\n",
      "Coefficient statistics:\n",
      "  Matrix range     [4e-03, 1e+00]\n",
      "  Objective range  [4e-03, 2e+01]\n",
      "  Bounds range     [0e+00, 0e+00]\n",
      "  RHS range        [1e+00, 1e+01]\n",
      "Presolve removed 144566 rows and 10716 columns\n",
      "Presolve time: 0.36s\n",
      "Presolved: 2677 rows, 133850 columns, 133850 nonzeros\n",
      "\n",
      "Concurrent LP optimizer: primal simplex, dual simplex, and barrier\n",
      "Showing barrier log only...\n",
      "\n",
      "Ordering time: 0.00s\n",
      "\n",
      "Barrier statistics:\n",
      " AA' NZ     : 0.000e+00\n",
      " Factor NZ  : 2.677e+03 (roughly 50 MB of memory)\n",
      " Factor Ops : 2.677e+03 (less than 1 second per iteration)\n",
      " Threads    : 1\n",
      "\n",
      "                  Objective                Residual\n",
      "Iter       Primal          Dual         Primal    Dual     Compl     Time\n",
      "   0   1.95884531e+04  3.50734592e+06  7.91e+01 7.11e-15  2.18e+02     0s\n",
      "   1   2.33700204e+03  1.80084268e+06  1.23e-13 8.73e-14  2.69e+01     1s\n",
      "\n",
      "Barrier performed 1 iterations in 0.51 seconds (0.36 work units)\n",
      "Barrier solve interrupted - model solved by another algorithm\n",
      "\n",
      "\n",
      "Solved with dual simplex\n",
      "Iteration    Objective       Primal Inf.    Dual Inf.      Time\n",
      "    2677    1.1030135e+04   0.000000e+00   0.000000e+00      1s\n",
      "\n",
      "Solved in 2677 iterations and 0.59 seconds (0.38 work units)\n",
      "Optimal objective  1.103013468e+04\n"
     ]
    },
    {
     "data": {
      "application/vnd.jupyter.widget-view+json": {
       "model_id": "c85598506e5f4d66bbd2001315537a45",
       "version_major": 2,
       "version_minor": 0
      },
      "text/plain": [
       "  0%|          | 0/134 [00:00<?, ?it/s]"
      ]
     },
     "metadata": {},
     "output_type": "display_data"
    },
    {
     "data": {
      "application/vnd.jupyter.widget-view+json": {
       "model_id": "0eefafdf3f0a44c585ab41c9debf4dd0",
       "version_major": 2,
       "version_minor": 0
      },
      "text/plain": [
       "  0%|          | 0/2543 [00:00<?, ?it/s]"
      ]
     },
     "metadata": {},
     "output_type": "display_data"
    },
    {
     "data": {
      "application/vnd.jupyter.widget-view+json": {
       "model_id": "57f1ac9decb349e3bf3e935af81f2f70",
       "version_major": 2,
       "version_minor": 0
      },
      "text/plain": [
       "  0%|          | 0/2677 [00:00<?, ?it/s]"
      ]
     },
     "metadata": {},
     "output_type": "display_data"
    },
    {
     "name": "stdout",
     "output_type": "stream",
     "text": [
      "> Model: VAECF\n",
      "VAECF\n"
     ]
    },
    {
     "data": {
      "application/vnd.jupyter.widget-view+json": {
       "model_id": "e83105ca778d45b19a1fd4afc7547489",
       "version_major": 2,
       "version_minor": 0
      },
      "text/plain": [
       "  0%|          | 0/2677 [00:00<?, ?it/s]"
      ]
     },
     "metadata": {},
     "output_type": "display_data"
    },
    {
     "data": {
      "application/vnd.jupyter.widget-view+json": {
       "model_id": "b72e1c9bc15640d39277f3853436f809",
       "version_major": 2,
       "version_minor": 0
      },
      "text/plain": [
       "  0%|          | 0/2677 [00:00<?, ?it/s]"
      ]
     },
     "metadata": {},
     "output_type": "display_data"
    },
    {
     "name": "stdout",
     "output_type": "stream",
     "text": [
      "Runing fairness optimisation on 'N', None, None\n",
      "Set parameter WLSAccessID\n",
      "Set parameter WLSSecret\n",
      "Set parameter LicenseID to value 2384212\n",
      "Academic license - for non-commercial use only - registered to timvnb@gmail.com\n",
      "Warning for adding constraints: zero or small (< 1e-13) coefficients, ignored\n",
      "Set parameter NodeLimit to value 1073741824\n",
      "Set parameter SolutionLimit to value 1073741824\n",
      "Set parameter IntFeasTol to value 1e-06\n",
      "Set parameter Method to value 3\n",
      "Gurobi Optimizer version 10.0.1 build v10.0.1rc0 (linux64)\n",
      "\n",
      "CPU model: Intel(R) Core(TM) i7-8750H CPU @ 2.20GHz, instruction set [SSE2|AVX|AVX2]\n",
      "Thread count: 6 physical cores, 12 logical processors, using up to 12 threads\n",
      "\n",
      "Academic license - for non-commercial use only - registered to timvnb@gmail.com\n",
      "Optimize a model with 147243 rows, 144566 columns and 478393 nonzeros\n",
      "Model fingerprint: 0x409cf464\n",
      "Coefficient statistics:\n",
      "  Matrix range     [4e-03, 1e+00]\n",
      "  Objective range  [2e-07, 2e-02]\n",
      "  Bounds range     [0e+00, 0e+00]\n",
      "  RHS range        [1e+00, 1e+01]\n",
      "Presolve removed 144566 rows and 10717 columns\n",
      "Presolve time: 0.46s\n",
      "Presolved: 2677 rows, 133849 columns, 133849 nonzeros\n",
      "\n",
      "Concurrent LP optimizer: primal simplex, dual simplex, and barrier\n",
      "Showing barrier log only...\n",
      "\n",
      "Ordering time: 0.00s\n",
      "\n",
      "Barrier statistics:\n",
      " AA' NZ     : 0.000e+00\n",
      " Factor NZ  : 2.677e+03 (roughly 50 MB of memory)\n",
      " Factor Ops : 2.677e+03 (less than 1 second per iteration)\n",
      " Threads    : 1\n",
      "\n",
      "                  Objective                Residual\n",
      "Iter       Primal          Dual         Primal    Dual     Compl     Time\n",
      "   0   2.71458402e+02  3.24145548e+03  7.91e+01 8.88e-16  2.56e+01     1s\n",
      "   1   3.69363541e+01  1.68035619e+03  7.64e-14 1.07e-14  3.14e+00     1s\n",
      "\n",
      "Barrier performed 1 iterations in 0.58 seconds (0.39 work units)\n",
      "Barrier solve interrupted - model solved by another algorithm\n",
      "\n",
      "\n",
      "Solved with dual simplex\n",
      "Iteration    Objective       Primal Inf.    Dual Inf.      Time\n",
      "    2677    1.0867935e+02   0.000000e+00   0.000000e+00      1s\n",
      "\n",
      "Solved in 2677 iterations and 0.67 seconds (0.41 work units)\n",
      "Optimal objective  1.086793532e+02\n"
     ]
    },
    {
     "data": {
      "application/vnd.jupyter.widget-view+json": {
       "model_id": "cc112e3c75804798b9e7c442ff9e9084",
       "version_major": 2,
       "version_minor": 0
      },
      "text/plain": [
       "  0%|          | 0/134 [00:00<?, ?it/s]"
      ]
     },
     "metadata": {},
     "output_type": "display_data"
    },
    {
     "data": {
      "application/vnd.jupyter.widget-view+json": {
       "model_id": "f682cef161a4483cb762a74d5471ef5b",
       "version_major": 2,
       "version_minor": 0
      },
      "text/plain": [
       "  0%|          | 0/2543 [00:00<?, ?it/s]"
      ]
     },
     "metadata": {},
     "output_type": "display_data"
    },
    {
     "data": {
      "application/vnd.jupyter.widget-view+json": {
       "model_id": "de295a2bebeb41c69d8528a64fc4d3c6",
       "version_major": 2,
       "version_minor": 0
      },
      "text/plain": [
       "  0%|          | 0/2677 [00:00<?, ?it/s]"
      ]
     },
     "metadata": {},
     "output_type": "display_data"
    },
    {
     "name": "stdout",
     "output_type": "stream",
     "text": [
      "Runing fairness optimisation on 'C', 0.05, None\n",
      "Set parameter WLSAccessID\n",
      "Set parameter WLSSecret\n",
      "Set parameter LicenseID to value 2384212\n",
      "Academic license - for non-commercial use only - registered to timvnb@gmail.com\n",
      "Warning for adding constraints: zero or small (< 1e-13) coefficients, ignored\n",
      "Set parameter NodeLimit to value 1073741824\n",
      "Set parameter SolutionLimit to value 1073741824\n",
      "Set parameter IntFeasTol to value 1e-06\n",
      "Set parameter Method to value 3\n",
      "Gurobi Optimizer version 10.0.1 build v10.0.1rc0 (linux64)\n",
      "\n",
      "CPU model: Intel(R) Core(TM) i7-8750H CPU @ 2.20GHz, instruction set [SSE2|AVX|AVX2]\n",
      "Thread count: 6 physical cores, 12 logical processors, using up to 12 threads\n",
      "\n",
      "Academic license - for non-commercial use only - registered to timvnb@gmail.com\n",
      "Optimize a model with 147243 rows, 144566 columns and 478393 nonzeros\n",
      "Model fingerprint: 0x63bbe7a0\n",
      "Coefficient statistics:\n",
      "  Matrix range     [4e-03, 1e+00]\n",
      "  Objective range  [2e-07, 5e-02]\n",
      "  Bounds range     [0e+00, 0e+00]\n",
      "  RHS range        [1e+00, 1e+01]\n",
      "Presolve removed 144566 rows and 10717 columns\n",
      "Presolve time: 0.49s\n",
      "Presolved: 2677 rows, 133849 columns, 133849 nonzeros\n",
      "\n",
      "Concurrent LP optimizer: primal simplex, dual simplex, and barrier\n",
      "Showing barrier log only...\n",
      "\n",
      "Ordering time: 0.00s\n",
      "\n",
      "Barrier statistics:\n",
      " AA' NZ     : 0.000e+00\n",
      " Factor NZ  : 2.677e+03 (roughly 50 MB of memory)\n",
      " Factor Ops : 2.677e+03 (less than 1 second per iteration)\n",
      " Threads    : 1\n",
      "\n",
      "                  Objective                Residual\n",
      "Iter       Primal          Dual         Primal    Dual     Compl     Time\n",
      "   0  -9.68157122e+02  8.22384270e+03  7.91e+01 3.55e-15  3.32e+01     1s\n",
      "   1   3.00135485e+01  4.21567451e+03  1.19e-13 1.60e-14  4.00e+00     1s\n",
      "\n",
      "Barrier performed 1 iterations in 0.62 seconds (0.39 work units)\n",
      "Barrier solve interrupted - model solved by another algorithm\n",
      "\n",
      "\n",
      "Solved with dual simplex\n",
      "Iteration    Objective       Primal Inf.    Dual Inf.      Time\n",
      "    2677    1.5842941e+02   0.000000e+00   0.000000e+00      1s\n",
      "\n",
      "Solved in 2677 iterations and 0.72 seconds (0.41 work units)\n",
      "Optimal objective  1.584294144e+02\n"
     ]
    },
    {
     "data": {
      "application/vnd.jupyter.widget-view+json": {
       "model_id": "d9a85f20f49e435fa0bbd4b7ca67eb13",
       "version_major": 2,
       "version_minor": 0
      },
      "text/plain": [
       "  0%|          | 0/134 [00:00<?, ?it/s]"
      ]
     },
     "metadata": {},
     "output_type": "display_data"
    },
    {
     "data": {
      "application/vnd.jupyter.widget-view+json": {
       "model_id": "cbb6ab4d3ff14835a80c29b595753886",
       "version_major": 2,
       "version_minor": 0
      },
      "text/plain": [
       "  0%|          | 0/2543 [00:00<?, ?it/s]"
      ]
     },
     "metadata": {},
     "output_type": "display_data"
    },
    {
     "data": {
      "application/vnd.jupyter.widget-view+json": {
       "model_id": "4792f4e5fbb2423386bea04ea8e0e442",
       "version_major": 2,
       "version_minor": 0
      },
      "text/plain": [
       "  0%|          | 0/2677 [00:00<?, ?it/s]"
      ]
     },
     "metadata": {},
     "output_type": "display_data"
    },
    {
     "name": "stdout",
     "output_type": "stream",
     "text": [
      "Runing fairness optimisation on 'P', None, 0.05\n",
      "Set parameter WLSAccessID\n",
      "Set parameter WLSSecret\n",
      "Set parameter LicenseID to value 2384212\n",
      "Academic license - for non-commercial use only - registered to timvnb@gmail.com\n",
      "Warning for adding constraints: zero or small (< 1e-13) coefficients, ignored\n",
      "Set parameter NodeLimit to value 1073741824\n",
      "Set parameter SolutionLimit to value 1073741824\n",
      "Set parameter IntFeasTol to value 1e-06\n",
      "Set parameter Method to value 3\n",
      "Gurobi Optimizer version 10.0.1 build v10.0.1rc0 (linux64)\n",
      "\n",
      "CPU model: Intel(R) Core(TM) i7-8750H CPU @ 2.20GHz, instruction set [SSE2|AVX|AVX2]\n",
      "Thread count: 6 physical cores, 12 logical processors, using up to 12 threads\n",
      "\n",
      "Academic license - for non-commercial use only - registered to timvnb@gmail.com\n",
      "Optimize a model with 147243 rows, 144566 columns and 478393 nonzeros\n",
      "Model fingerprint: 0xb948d672\n",
      "Coefficient statistics:\n",
      "  Matrix range     [4e-03, 1e+00]\n",
      "  Objective range  [2e-07, 5e-02]\n",
      "  Bounds range     [0e+00, 0e+00]\n",
      "  RHS range        [1e+00, 1e+01]\n",
      "Presolve removed 144566 rows and 10717 columns\n",
      "Presolve time: 0.47s\n",
      "Presolved: 2677 rows, 133849 columns, 133849 nonzeros\n",
      "\n",
      "Concurrent LP optimizer: primal simplex, dual simplex, and barrier\n",
      "Showing barrier log only...\n",
      "\n",
      "Ordering time: 0.00s\n",
      "\n",
      "Barrier statistics:\n",
      " AA' NZ     : 0.000e+00\n",
      " Factor NZ  : 2.677e+03 (roughly 50 MB of memory)\n",
      " Factor Ops : 2.677e+03 (less than 1 second per iteration)\n",
      " Threads    : 1\n",
      "\n",
      "                  Objective                Residual\n",
      "Iter       Primal          Dual         Primal    Dual     Compl     Time\n",
      "   0  -7.98756406e+03  7.38837920e+03  7.03e+01 1.39e-17  2.70e-01     1s\n",
      "   1  -8.10433749e+02  3.47630848e+03  2.03e+00 1.39e-16  3.44e-02     1s\n",
      "\n",
      "Barrier performed 1 iterations in 0.62 seconds (0.39 work units)\n",
      "Barrier solve interrupted - model solved by another algorithm\n",
      "\n",
      "\n",
      "Solved with dual simplex\n",
      "Iteration    Objective       Primal Inf.    Dual Inf.      Time\n",
      "    2677   -1.4901576e+02   0.000000e+00   0.000000e+00      1s\n",
      "\n",
      "Solved in 2677 iterations and 0.72 seconds (0.41 work units)\n",
      "Optimal objective -1.490157640e+02\n"
     ]
    },
    {
     "data": {
      "application/vnd.jupyter.widget-view+json": {
       "model_id": "b30adc4328724e3f915c8bd318d1e796",
       "version_major": 2,
       "version_minor": 0
      },
      "text/plain": [
       "  0%|          | 0/134 [00:00<?, ?it/s]"
      ]
     },
     "metadata": {},
     "output_type": "display_data"
    },
    {
     "data": {
      "application/vnd.jupyter.widget-view+json": {
       "model_id": "e7db8dfc57b44745a49f9a7736120915",
       "version_major": 2,
       "version_minor": 0
      },
      "text/plain": [
       "  0%|          | 0/2543 [00:00<?, ?it/s]"
      ]
     },
     "metadata": {},
     "output_type": "display_data"
    },
    {
     "data": {
      "application/vnd.jupyter.widget-view+json": {
       "model_id": "64f585990cce4f1eacfaab204134b3a0",
       "version_major": 2,
       "version_minor": 0
      },
      "text/plain": [
       "  0%|          | 0/2677 [00:00<?, ?it/s]"
      ]
     },
     "metadata": {},
     "output_type": "display_data"
    },
    {
     "name": "stdout",
     "output_type": "stream",
     "text": [
      "Runing fairness optimisation on 'CP', 0.05, 0.05\n",
      "Set parameter WLSAccessID\n",
      "Set parameter WLSSecret\n",
      "Set parameter LicenseID to value 2384212\n",
      "Academic license - for non-commercial use only - registered to timvnb@gmail.com\n",
      "Warning for adding constraints: zero or small (< 1e-13) coefficients, ignored\n",
      "Set parameter NodeLimit to value 1073741824\n",
      "Set parameter SolutionLimit to value 1073741824\n",
      "Set parameter IntFeasTol to value 1e-06\n",
      "Set parameter Method to value 3\n",
      "Gurobi Optimizer version 10.0.1 build v10.0.1rc0 (linux64)\n",
      "\n",
      "CPU model: Intel(R) Core(TM) i7-8750H CPU @ 2.20GHz, instruction set [SSE2|AVX|AVX2]\n",
      "Thread count: 6 physical cores, 12 logical processors, using up to 12 threads\n",
      "\n",
      "Academic license - for non-commercial use only - registered to timvnb@gmail.com\n",
      "Optimize a model with 147243 rows, 144566 columns and 478393 nonzeros\n",
      "Model fingerprint: 0xd0832537\n",
      "Coefficient statistics:\n",
      "  Matrix range     [4e-03, 1e+00]\n",
      "  Objective range  [2e-07, 5e-02]\n",
      "  Bounds range     [0e+00, 0e+00]\n",
      "  RHS range        [1e+00, 1e+01]\n",
      "Presolve removed 144566 rows and 10717 columns\n",
      "Presolve time: 0.40s\n",
      "Presolved: 2677 rows, 133849 columns, 133849 nonzeros\n",
      "\n",
      "Concurrent LP optimizer: primal simplex, dual simplex, and barrier\n",
      "Showing barrier log only...\n",
      "\n",
      "Ordering time: 0.02s\n",
      "\n",
      "Barrier statistics:\n",
      " AA' NZ     : 0.000e+00\n",
      " Factor NZ  : 2.677e+03 (roughly 50 MB of memory)\n",
      " Factor Ops : 2.677e+03 (less than 1 second per iteration)\n",
      " Threads    : 1\n",
      "\n",
      "                  Objective                Residual\n",
      "Iter       Primal          Dual         Primal    Dual     Compl     Time\n",
      "   0  -9.42332790e+03  1.37562593e+04  7.31e+01 3.55e-15  6.06e+01     1s\n",
      "   1  -8.67620385e+02  6.62041218e+03  3.11e-01 2.84e-14  7.25e+00     1s\n",
      "\n",
      "Barrier performed 1 iterations in 0.59 seconds (0.37 work units)\n",
      "Barrier solve interrupted - model solved by another algorithm\n",
      "\n",
      "\n",
      "Solved with dual simplex\n",
      "Iteration    Objective       Primal Inf.    Dual Inf.      Time\n",
      "    2677   -1.4201546e+02   0.000000e+00   0.000000e+00      1s\n",
      "\n",
      "Solved in 2677 iterations and 0.70 seconds (0.39 work units)\n",
      "Optimal objective -1.420154569e+02\n"
     ]
    },
    {
     "data": {
      "application/vnd.jupyter.widget-view+json": {
       "model_id": "835a75d6ca6e408f835d46101e51fc86",
       "version_major": 2,
       "version_minor": 0
      },
      "text/plain": [
       "  0%|          | 0/134 [00:00<?, ?it/s]"
      ]
     },
     "metadata": {},
     "output_type": "display_data"
    },
    {
     "data": {
      "application/vnd.jupyter.widget-view+json": {
       "model_id": "3d1fc4e0f7de41fd874ea4ede60d0688",
       "version_major": 2,
       "version_minor": 0
      },
      "text/plain": [
       "  0%|          | 0/2543 [00:00<?, ?it/s]"
      ]
     },
     "metadata": {},
     "output_type": "display_data"
    },
    {
     "data": {
      "application/vnd.jupyter.widget-view+json": {
       "model_id": "74083e82b9eb472aa87243de5249c33c",
       "version_major": 2,
       "version_minor": 0
      },
      "text/plain": [
       "  0%|          | 0/2677 [00:00<?, ?it/s]"
      ]
     },
     "metadata": {},
     "output_type": "display_data"
    },
    {
     "name": "stdout",
     "output_type": "stream",
     "text": [
      "> Model: NeuMF\n",
      "NeuMF\n"
     ]
    },
    {
     "data": {
      "application/vnd.jupyter.widget-view+json": {
       "model_id": "71f30867987f4f469104f7157d4b6710",
       "version_major": 2,
       "version_minor": 0
      },
      "text/plain": [
       "  0%|          | 0/2677 [00:00<?, ?it/s]"
      ]
     },
     "metadata": {},
     "output_type": "display_data"
    },
    {
     "data": {
      "application/vnd.jupyter.widget-view+json": {
       "model_id": "f5b7ac5272834c44b18a5d80a7dea46d",
       "version_major": 2,
       "version_minor": 0
      },
      "text/plain": [
       "  0%|          | 0/2677 [00:00<?, ?it/s]"
      ]
     },
     "metadata": {},
     "output_type": "display_data"
    },
    {
     "name": "stdout",
     "output_type": "stream",
     "text": [
      "Runing fairness optimisation on 'N', None, None\n",
      "Set parameter WLSAccessID\n",
      "Set parameter WLSSecret\n",
      "Set parameter LicenseID to value 2384212\n",
      "Academic license - for non-commercial use only - registered to timvnb@gmail.com\n",
      "Warning for adding constraints: zero or small (< 1e-13) coefficients, ignored\n",
      "Set parameter NodeLimit to value 1073741824\n",
      "Set parameter SolutionLimit to value 1073741824\n",
      "Set parameter IntFeasTol to value 1e-06\n",
      "Set parameter Method to value 3\n",
      "Gurobi Optimizer version 10.0.1 build v10.0.1rc0 (linux64)\n",
      "\n",
      "CPU model: Intel(R) Core(TM) i7-8750H CPU @ 2.20GHz, instruction set [SSE2|AVX|AVX2]\n",
      "Thread count: 6 physical cores, 12 logical processors, using up to 12 threads\n",
      "\n",
      "Academic license - for non-commercial use only - registered to timvnb@gmail.com\n",
      "Optimize a model with 147243 rows, 144566 columns and 468610 nonzeros\n",
      "Model fingerprint: 0x20cfa61f\n",
      "Coefficient statistics:\n",
      "  Matrix range     [4e-03, 1e+00]\n",
      "  Objective range  [1e-03, 1e+00]\n",
      "  Bounds range     [0e+00, 0e+00]\n",
      "  RHS range        [1e+00, 1e+01]\n",
      "Presolve removed 144566 rows and 10716 columns\n",
      "Presolve time: 0.41s\n",
      "Presolved: 2677 rows, 133850 columns, 133850 nonzeros\n",
      "\n",
      "Concurrent LP optimizer: primal simplex, dual simplex, and barrier\n",
      "Showing barrier log only...\n",
      "\n",
      "Ordering time: 0.01s\n",
      "\n",
      "Barrier statistics:\n",
      " AA' NZ     : 0.000e+00\n",
      " Factor NZ  : 2.677e+03 (roughly 50 MB of memory)\n",
      " Factor Ops : 2.677e+03 (less than 1 second per iteration)\n",
      " Threads    : 1\n",
      "\n",
      "                  Objective                Residual\n",
      "Iter       Primal          Dual         Primal    Dual     Compl     Time\n",
      "   0   7.18263171e+04  1.30436139e+05  7.91e+01 2.22e-16  3.81e+00     1s\n",
      "   1   9.93902263e+03  7.15070684e+04  3.91e-14 1.78e-15  4.60e-01     1s\n",
      "\n",
      "Barrier performed 1 iterations in 0.56 seconds (0.35 work units)\n",
      "Barrier solve interrupted - model solved by another algorithm\n",
      "\n",
      "\n",
      "Solved with dual simplex\n",
      "Iteration    Objective       Primal Inf.    Dual Inf.      Time\n",
      "    2677    1.7112025e+04   0.000000e+00   0.000000e+00      1s\n",
      "\n",
      "Solved in 2677 iterations and 0.65 seconds (0.37 work units)\n",
      "Optimal objective  1.711202454e+04\n"
     ]
    },
    {
     "data": {
      "application/vnd.jupyter.widget-view+json": {
       "model_id": "bbd5882f21304454bfa83b47814e8fc2",
       "version_major": 2,
       "version_minor": 0
      },
      "text/plain": [
       "  0%|          | 0/134 [00:00<?, ?it/s]"
      ]
     },
     "metadata": {},
     "output_type": "display_data"
    },
    {
     "data": {
      "application/vnd.jupyter.widget-view+json": {
       "model_id": "b1f93b732d494a279803be7621ddf688",
       "version_major": 2,
       "version_minor": 0
      },
      "text/plain": [
       "  0%|          | 0/2543 [00:00<?, ?it/s]"
      ]
     },
     "metadata": {},
     "output_type": "display_data"
    },
    {
     "data": {
      "application/vnd.jupyter.widget-view+json": {
       "model_id": "ce6c1ba560db47dcb244cc437fda58ff",
       "version_major": 2,
       "version_minor": 0
      },
      "text/plain": [
       "  0%|          | 0/2677 [00:00<?, ?it/s]"
      ]
     },
     "metadata": {},
     "output_type": "display_data"
    },
    {
     "name": "stdout",
     "output_type": "stream",
     "text": [
      "Runing fairness optimisation on 'C', 0.05, None\n",
      "Set parameter WLSAccessID\n",
      "Set parameter WLSSecret\n",
      "Set parameter LicenseID to value 2384212\n",
      "Academic license - for non-commercial use only - registered to timvnb@gmail.com\n",
      "Warning for adding constraints: zero or small (< 1e-13) coefficients, ignored\n",
      "Set parameter NodeLimit to value 1073741824\n",
      "Set parameter SolutionLimit to value 1073741824\n",
      "Set parameter IntFeasTol to value 1e-06\n",
      "Set parameter Method to value 3\n",
      "Gurobi Optimizer version 10.0.1 build v10.0.1rc0 (linux64)\n",
      "\n",
      "CPU model: Intel(R) Core(TM) i7-8750H CPU @ 2.20GHz, instruction set [SSE2|AVX|AVX2]\n",
      "Thread count: 6 physical cores, 12 logical processors, using up to 12 threads\n",
      "\n",
      "Academic license - for non-commercial use only - registered to timvnb@gmail.com\n",
      "Optimize a model with 147243 rows, 144566 columns and 468610 nonzeros\n",
      "Model fingerprint: 0x6c29a569\n",
      "Coefficient statistics:\n",
      "  Matrix range     [4e-03, 1e+00]\n",
      "  Objective range  [1e-03, 1e+00]\n",
      "  Bounds range     [0e+00, 0e+00]\n",
      "  RHS range        [1e+00, 1e+01]\n",
      "Presolve removed 144566 rows and 10716 columns\n",
      "Presolve time: 0.36s\n",
      "Presolved: 2677 rows, 133850 columns, 133850 nonzeros\n",
      "\n",
      "Concurrent LP optimizer: primal simplex, dual simplex, and barrier\n",
      "Showing barrier log only...\n",
      "\n",
      "Ordering time: 0.00s\n",
      "\n",
      "Barrier statistics:\n",
      " AA' NZ     : 0.000e+00\n",
      " Factor NZ  : 2.677e+03 (roughly 50 MB of memory)\n",
      " Factor Ops : 2.677e+03 (less than 1 second per iteration)\n",
      " Threads    : 1\n",
      "\n",
      "                  Objective                Residual\n",
      "Iter       Primal          Dual         Primal    Dual     Compl     Time\n",
      "   0   7.08346273e+04  1.34393155e+05  7.91e+01 5.77e-15  6.29e+01     0s\n",
      "   1   9.76151181e+03  7.34603103e+04  1.31e-13 2.84e-14  7.61e+00     1s\n",
      "\n",
      "Barrier performed 1 iterations in 0.50 seconds (0.35 work units)\n",
      "Barrier solve interrupted - model solved by another algorithm\n",
      "\n",
      "\n",
      "Solved with dual simplex\n",
      "Iteration    Objective       Primal Inf.    Dual Inf.      Time\n",
      "    2677    1.6981173e+04   0.000000e+00   0.000000e+00      1s\n",
      "\n",
      "Solved in 2677 iterations and 0.60 seconds (0.37 work units)\n",
      "Optimal objective  1.698117277e+04\n"
     ]
    },
    {
     "data": {
      "application/vnd.jupyter.widget-view+json": {
       "model_id": "bb9b7c27dff04bf3982b9cef0fca1637",
       "version_major": 2,
       "version_minor": 0
      },
      "text/plain": [
       "  0%|          | 0/134 [00:00<?, ?it/s]"
      ]
     },
     "metadata": {},
     "output_type": "display_data"
    },
    {
     "data": {
      "application/vnd.jupyter.widget-view+json": {
       "model_id": "de41f35f3a3e4406932b93e9fab5c6eb",
       "version_major": 2,
       "version_minor": 0
      },
      "text/plain": [
       "  0%|          | 0/2543 [00:00<?, ?it/s]"
      ]
     },
     "metadata": {},
     "output_type": "display_data"
    },
    {
     "data": {
      "application/vnd.jupyter.widget-view+json": {
       "model_id": "0c9d83ffa2f94be285830910d86a2b74",
       "version_major": 2,
       "version_minor": 0
      },
      "text/plain": [
       "  0%|          | 0/2677 [00:00<?, ?it/s]"
      ]
     },
     "metadata": {},
     "output_type": "display_data"
    },
    {
     "name": "stdout",
     "output_type": "stream",
     "text": [
      "Runing fairness optimisation on 'P', None, 0.05\n",
      "Set parameter WLSAccessID\n",
      "Set parameter WLSSecret\n",
      "Set parameter LicenseID to value 2384212\n",
      "Academic license - for non-commercial use only - registered to timvnb@gmail.com\n",
      "Warning for adding constraints: zero or small (< 1e-13) coefficients, ignored\n",
      "Set parameter NodeLimit to value 1073741824\n",
      "Set parameter SolutionLimit to value 1073741824\n",
      "Set parameter IntFeasTol to value 1e-06\n",
      "Set parameter Method to value 3\n",
      "Gurobi Optimizer version 10.0.1 build v10.0.1rc0 (linux64)\n",
      "\n",
      "CPU model: Intel(R) Core(TM) i7-8750H CPU @ 2.20GHz, instruction set [SSE2|AVX|AVX2]\n",
      "Thread count: 6 physical cores, 12 logical processors, using up to 12 threads\n",
      "\n",
      "Academic license - for non-commercial use only - registered to timvnb@gmail.com\n",
      "Optimize a model with 147243 rows, 144566 columns and 468610 nonzeros\n",
      "Model fingerprint: 0x63558cfc\n",
      "Coefficient statistics:\n",
      "  Matrix range     [4e-03, 1e+00]\n",
      "  Objective range  [1e-03, 1e+00]\n",
      "  Bounds range     [0e+00, 0e+00]\n",
      "  RHS range        [1e+00, 1e+01]\n",
      "Presolve removed 144566 rows and 10716 columns\n",
      "Presolve time: 0.36s\n",
      "Presolved: 2677 rows, 133850 columns, 133850 nonzeros\n",
      "\n",
      "Concurrent LP optimizer: primal simplex, dual simplex, and barrier\n",
      "Showing barrier log only...\n",
      "\n",
      "Ordering time: 0.00s\n",
      "\n",
      "Barrier statistics:\n",
      " AA' NZ     : 0.000e+00\n",
      " Factor NZ  : 2.677e+03 (roughly 50 MB of memory)\n",
      " Factor Ops : 2.677e+03 (less than 1 second per iteration)\n",
      " Threads    : 1\n",
      "\n",
      "                  Objective                Residual\n",
      "Iter       Primal          Dual         Primal    Dual     Compl     Time\n",
      "   0   6.03702146e+04  1.34502157e+05  7.91e+01 1.15e-14  1.27e+02     0s\n",
      "   1   8.57090748e+03  7.29387813e+04  5.33e-14 5.33e-14  1.54e+01     0s\n",
      "\n",
      "Barrier performed 1 iterations in 0.49 seconds (0.35 work units)\n",
      "Barrier solve interrupted - model solved by another algorithm\n",
      "\n",
      "\n",
      "Solved with dual simplex\n",
      "Iteration    Objective       Primal Inf.    Dual Inf.      Time\n",
      "    2677    1.5813140e+04   0.000000e+00   0.000000e+00      1s\n",
      "\n",
      "Solved in 2677 iterations and 0.58 seconds (0.37 work units)\n",
      "Optimal objective  1.581314014e+04\n"
     ]
    },
    {
     "data": {
      "application/vnd.jupyter.widget-view+json": {
       "model_id": "89fb06852cdd4a4aadb31f8afac6d9a7",
       "version_major": 2,
       "version_minor": 0
      },
      "text/plain": [
       "  0%|          | 0/134 [00:00<?, ?it/s]"
      ]
     },
     "metadata": {},
     "output_type": "display_data"
    },
    {
     "data": {
      "application/vnd.jupyter.widget-view+json": {
       "model_id": "705f987764424c4590e4a6e21fc77bbe",
       "version_major": 2,
       "version_minor": 0
      },
      "text/plain": [
       "  0%|          | 0/2543 [00:00<?, ?it/s]"
      ]
     },
     "metadata": {},
     "output_type": "display_data"
    },
    {
     "data": {
      "application/vnd.jupyter.widget-view+json": {
       "model_id": "51112d0668474688a764885aeef98f6d",
       "version_major": 2,
       "version_minor": 0
      },
      "text/plain": [
       "  0%|          | 0/2677 [00:00<?, ?it/s]"
      ]
     },
     "metadata": {},
     "output_type": "display_data"
    },
    {
     "name": "stdout",
     "output_type": "stream",
     "text": [
      "Runing fairness optimisation on 'CP', 0.05, 0.05\n",
      "Set parameter WLSAccessID\n",
      "Set parameter WLSSecret\n",
      "Set parameter LicenseID to value 2384212\n",
      "Academic license - for non-commercial use only - registered to timvnb@gmail.com\n",
      "Warning for adding constraints: zero or small (< 1e-13) coefficients, ignored\n",
      "Set parameter NodeLimit to value 1073741824\n",
      "Set parameter SolutionLimit to value 1073741824\n",
      "Set parameter IntFeasTol to value 1e-06\n",
      "Set parameter Method to value 3\n",
      "Gurobi Optimizer version 10.0.1 build v10.0.1rc0 (linux64)\n",
      "\n",
      "CPU model: Intel(R) Core(TM) i7-8750H CPU @ 2.20GHz, instruction set [SSE2|AVX|AVX2]\n",
      "Thread count: 6 physical cores, 12 logical processors, using up to 12 threads\n",
      "\n",
      "Academic license - for non-commercial use only - registered to timvnb@gmail.com\n",
      "Optimize a model with 147243 rows, 144566 columns and 468610 nonzeros\n",
      "Model fingerprint: 0xb24a06d5\n",
      "Coefficient statistics:\n",
      "  Matrix range     [4e-03, 1e+00]\n",
      "  Objective range  [1e-03, 1e+00]\n",
      "  Bounds range     [0e+00, 0e+00]\n",
      "  RHS range        [1e+00, 1e+01]\n",
      "Presolve removed 144566 rows and 10716 columns\n",
      "Presolve time: 0.39s\n",
      "Presolved: 2677 rows, 133850 columns, 133850 nonzeros\n",
      "\n",
      "Concurrent LP optimizer: primal simplex, dual simplex, and barrier\n",
      "Showing barrier log only...\n",
      "\n",
      "Ordering time: 0.01s\n",
      "\n",
      "Barrier statistics:\n",
      " AA' NZ     : 0.000e+00\n",
      " Factor NZ  : 2.677e+03 (roughly 50 MB of memory)\n",
      " Factor Ops : 2.677e+03 (less than 1 second per iteration)\n",
      " Threads    : 1\n",
      "\n",
      "                  Objective                Residual\n",
      "Iter       Primal          Dual         Primal    Dual     Compl     Time\n",
      "   0   5.93785247e+04  1.36498743e+05  7.91e+01 1.15e-14  1.29e+02     1s\n",
      "   1   8.42554334e+03  7.38972622e+04  1.08e-13 5.42e-14  1.57e+01     1s\n",
      "\n",
      "Barrier performed 1 iterations in 0.57 seconds (0.35 work units)\n",
      "Barrier solve interrupted - model solved by another algorithm\n",
      "\n",
      "\n",
      "Solved with dual simplex\n",
      "Iteration    Objective       Primal Inf.    Dual Inf.      Time\n",
      "    2677    1.5682213e+04   0.000000e+00   0.000000e+00      1s\n",
      "\n",
      "Solved in 2677 iterations and 0.67 seconds (0.37 work units)\n",
      "Optimal objective  1.568221347e+04\n"
     ]
    },
    {
     "data": {
      "application/vnd.jupyter.widget-view+json": {
       "model_id": "028ae8cc28f840a2abf1c609b5b156dc",
       "version_major": 2,
       "version_minor": 0
      },
      "text/plain": [
       "  0%|          | 0/134 [00:00<?, ?it/s]"
      ]
     },
     "metadata": {},
     "output_type": "display_data"
    },
    {
     "data": {
      "application/vnd.jupyter.widget-view+json": {
       "model_id": "3dac7bf6f4954f0b81700a7997c7f351",
       "version_major": 2,
       "version_minor": 0
      },
      "text/plain": [
       "  0%|          | 0/2543 [00:00<?, ?it/s]"
      ]
     },
     "metadata": {},
     "output_type": "display_data"
    },
    {
     "data": {
      "application/vnd.jupyter.widget-view+json": {
       "model_id": "8df4ab7bae3b40ddb20d57564c27e497",
       "version_major": 2,
       "version_minor": 0
      },
      "text/plain": [
       "  0%|          | 0/2677 [00:00<?, ?it/s]"
      ]
     },
     "metadata": {},
     "output_type": "display_data"
    },
    {
     "data": {
      "text/plain": [
       "{'Gowalla':    Dataset  Model Type     All  Active  Inactive     DCF    Nov.    Cov.  \\\n",
       " 0  Gowalla    WMF    N  0.0338  0.0550    0.0327  0.2541  4.5012  0.4617   \n",
       " 1  Gowalla    WMF    C  0.0357  0.0527    0.0348  0.2044  4.5152  0.4567   \n",
       " 2  Gowalla    WMF    P  0.0318  0.0508    0.0308  0.2454  4.6490  0.4693   \n",
       " 3  Gowalla    WMF   CP  0.0334  0.0470    0.0327  0.1793  4.6657  0.4626   \n",
       " 0  Gowalla     PF    N  0.0592  0.0685    0.0587  0.0771  4.0587  0.6098   \n",
       " 1  Gowalla     PF    C  0.0662  0.0617    0.0664  0.0367  4.0702  0.6140   \n",
       " 2  Gowalla     PF    P  0.0570  0.0688    0.0564  0.0993  4.3348  0.6468   \n",
       " 3  Gowalla     PF   CP  0.0618  0.0585    0.0620  0.0288  4.3560  0.6510   \n",
       " 0  Gowalla  VAECF    N  0.0652  0.1040    0.0632  0.2442  3.8217  0.4079   \n",
       " 1  Gowalla  VAECF    C  0.1016  0.0000    0.1069  1.0000  3.8283  0.4323   \n",
       " 2  Gowalla  VAECF    P  0.0569  0.1147    0.0539  0.3606  4.3185  0.4407   \n",
       " 3  Gowalla  VAECF   CP  0.0796  0.0377    0.0818  0.3689  4.3363  0.4584   \n",
       " 0  Gowalla  NeuMF    N  0.0580  0.1013    0.0557  0.2904  3.3890  0.1657   \n",
       " 1  Gowalla  NeuMF    C  0.0623  0.0912    0.0608  0.1999  3.3873  0.1690   \n",
       " 2  Gowalla  NeuMF    P  0.0566  0.1026    0.0542  0.3086  3.4371  0.1741   \n",
       " 3  Gowalla  NeuMF   CP  0.0598  0.0880    0.0584  0.2025  3.4343  0.1758   \n",
       " \n",
       "    Short.   Long.     DPF    mCPF  mCPF/All  delta (%)  \n",
       " 0  0.5775  0.4225  0.1550  0.2046    6.0471       0.00  \n",
       " 1  0.5748  0.4252  0.1496  0.1770    4.9530      13.49  \n",
       " 2  0.4757  0.5243 -0.0487  0.0984    3.0957      51.91  \n",
       " 3  0.4705  0.5295 -0.0589  0.0602    1.8016      70.58  \n",
       " 0  0.7026  0.2974  0.4051  0.2411    4.0721       0.00  \n",
       " 1  0.7011  0.2989  0.4021  0.2194    3.3142       8.99  \n",
       " 2  0.4954  0.5046 -0.0092  0.0451    0.7903      81.31  \n",
       " 3  0.4880  0.5120 -0.0241  0.0024    0.0383      99.02  \n",
       " 0  0.7103  0.2897  0.4205  0.3324    5.0983       0.00  \n",
       " 1  0.7124  0.2876  0.4248  0.7124    7.0124    -114.35  \n",
       " 2  0.2919  0.7081 -0.4161 -0.0277   -0.4874     108.35  \n",
       " 3  0.2919  0.7081 -0.4161 -0.0236   -0.2963     107.10  \n",
       " 0  0.9196  0.0804  0.8393  0.5648    9.7402       0.00  \n",
       " 1  0.9196  0.0804  0.8391  0.5195    8.3414       8.03  \n",
       " 2  0.8781  0.1219  0.7561  0.5323    9.4018       5.76  \n",
       " 3  0.8778  0.1222  0.7556  0.4790    8.0068      15.19  ,\n",
       " 'Epinion':    Dataset  Model Type     All  Active  Inactive     DCF    Nov.    Cov.  \\\n",
       " 0  Epinion    WMF    N  0.0235  0.0577    0.0217  0.4534  4.9484  0.2913   \n",
       " 1  Epinion    WMF    C  0.0236  0.0565    0.0218  0.4420  4.9482  0.2898   \n",
       " 2  Epinion    WMF    P  0.0234  0.0577    0.0216  0.4560  4.9627  0.3019   \n",
       " 3  Epinion    WMF   CP  0.0234  0.0565    0.0217  0.4450  4.9623  0.3010   \n",
       " 0  Epinion     PF    N  0.0321  0.0751    0.0298  0.4321  4.9602  0.5073   \n",
       " 1  Epinion     PF    C  0.0337  0.0732    0.0316  0.3964  4.9754  0.5083   \n",
       " 2  Epinion     PF    P  0.0304  0.0757    0.0280  0.4598  5.3172  0.5325   \n",
       " 3  Epinion     PF   CP  0.0313  0.0740    0.0290  0.4368  5.3302  0.5345   \n",
       " 0  Epinion  VAECF    N  0.0447  0.0769    0.0430  0.2835  4.3811  0.2874   \n",
       " 1  Epinion  VAECF    C  0.0504  0.0025    0.0529  0.9107  4.4407  0.3015   \n",
       " 2  Epinion  VAECF    P  0.0375  0.0712    0.0357  0.3315  4.9033  0.3175   \n",
       " 3  Epinion  VAECF   CP  0.0416  0.0162    0.0429  0.4510  4.9314  0.3228   \n",
       " 0  Epinion  NeuMF    N  0.0433  0.0739    0.0417  0.2788  3.8964  0.1214   \n",
       " 1  Epinion  NeuMF    C  0.0442  0.0657    0.0431  0.2077  3.8998  0.1214   \n",
       " 2  Epinion  NeuMF    P  0.0432  0.0746    0.0415  0.2854  3.9066  0.1238   \n",
       " 3  Epinion  NeuMF   CP  0.0443  0.0671    0.0431  0.2176  3.9105  0.1243   \n",
       " \n",
       "    Short.   Long.     DPF    mCPF  mCPF/All  delta (%)  \n",
       " 0  0.9422  0.0578  0.8845  0.6690   28.4790       0.00  \n",
       " 1  0.9422  0.0578  0.8845  0.6633   28.1283       0.85  \n",
       " 2  0.9321  0.0679  0.8643  0.6601   28.2591       1.32  \n",
       " 3  0.9321  0.0679  0.8643  0.6546   27.9274       2.15  \n",
       " 0  0.8281  0.1719  0.6563  0.5442   16.9625       0.00  \n",
       " 1  0.8243  0.1757  0.6486  0.5225   15.4989       3.99  \n",
       " 2  0.6153  0.3847  0.2306  0.3452   11.3564      36.56  \n",
       " 3  0.6113  0.3887  0.2226  0.3297   10.5402      39.41  \n",
       " 0  0.9226  0.0774  0.8453  0.5644   12.6369       0.00  \n",
       " 1  0.9159  0.0841  0.8318  0.8713   17.3039     -54.38  \n",
       " 2  0.5857  0.4143  0.1713  0.2514    6.6991      55.45  \n",
       " 3  0.5857  0.4143  0.1713  0.3112    7.4856      44.86  \n",
       " 0  0.9892  0.0108  0.9784  0.6286   14.5210       0.00  \n",
       " 1  0.9894  0.0106  0.9787  0.5932   13.4055       5.63  \n",
       " 2  0.9798  0.0202  0.9595  0.6225   14.4221       0.98  \n",
       " 3  0.9797  0.0203  0.9594  0.5885   13.2871       6.38  }"
      ]
     },
     "execution_count": 2,
     "metadata": {},
     "output_type": "execute_result"
    }
   ],
   "source": [
    "experiment = Experiment(\n",
    "    os.getcwd() + '/table_reproduction.yaml',\n",
    "    models=[\n",
    "            HPF(k=50, seed=123, hierarchical=False, name=\"PF\"),\n",
    "            WMF(k=50, max_iter=50, learning_rate=0.001, lambda_u=0.01, lambda_v=0.01, verbose=True, seed=123),\n",
    "            NeuMF(num_factors=9, layers=[32, 16, 8], act_fn=\"tanh\", num_epochs=5, num_neg=3, batch_size=256, lr=0.001, seed=43, verbose=True),\n",
    "            VAECF(k=10, autoencoder_structure=[20], act_fn=\"tanh\", likelihood=\"mult\", n_epochs=100, batch_size=100, learning_rate=0.001, beta=1.0, seed=123, use_gpu=True, verbose=True)\n",
    "        ],\n",
    "        metrics=[\n",
    "            AUC(), MAP(), MRR(), NDCG(k=10), Recall(k=10)\n",
    "        ]\n",
    "    )\n",
    "experiment.run_experiment()"
   ]
  },
  {
   "cell_type": "code",
   "execution_count": null,
   "metadata": {},
   "outputs": [],
   "source": []
  }
 ],
 "metadata": {
  "kernelspec": {
   "display_name": "recsys2",
   "language": "python",
   "name": "python3"
  },
  "language_info": {
   "codemirror_mode": {
    "name": "ipython",
    "version": 3
   },
   "file_extension": ".py",
   "mimetype": "text/x-python",
   "name": "python",
   "nbconvert_exporter": "python",
   "pygments_lexer": "ipython3",
   "version": "3.7.0"
  },
  "orig_nbformat": 4
 },
 "nbformat": 4,
 "nbformat_minor": 2
}
