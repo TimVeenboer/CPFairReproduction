{
 "cells": [
  {
   "cell_type": "code",
   "execution_count": 1,
   "metadata": {},
   "outputs": [],
   "source": [
    "from copy import deepcopy\n",
    "from datetime import datetime\n",
    "import os\n",
    "import yaml\n",
    "import cornac\n",
    "from cornac.eval_methods import BaseMethod\n",
    "import pandas as pd\n",
    "\n",
    "from clean_results import clean_results\n",
    "from boxplot import create_boxplots\n",
    "from dataset_utils import *\n",
    "from matrices import *\n",
    "from metrics import metric_per_group, metric_on_all\n",
    "from optimisation import fairness_optimisation\n",
    "\n",
    "import os\n",
    "import matplotlib.pyplot as plt\n",
    "import seaborn as sns"
   ]
  },
  {
   "cell_type": "code",
   "execution_count": 2,
   "metadata": {},
   "outputs": [],
   "source": [
    "datasets = ['Gowalla', 'Epinion', 'AmazonOffice','AmazonToy','BookCrossing','Foursquare','LastFM','MovieLens100K']"
   ]
  },
  {
   "cell_type": "code",
   "execution_count": 3,
   "metadata": {},
   "outputs": [],
   "source": [
    "for data in datasets:\n",
    "    df = pd.read_csv('results/12062023142508/results_' + data + '.csv')\n",
    "    create_boxplots(\"results/12062023142508/boxplots2\", data, df)"
   ]
  }
 ],
 "metadata": {
  "kernelspec": {
   "display_name": "recsys2",
   "language": "python",
   "name": "python3"
  },
  "language_info": {
   "codemirror_mode": {
    "name": "ipython",
    "version": 3
   },
   "file_extension": ".py",
   "mimetype": "text/x-python",
   "name": "python",
   "nbconvert_exporter": "python",
   "pygments_lexer": "ipython3",
   "version": "3.7.0"
  },
  "orig_nbformat": 4
 },
 "nbformat": 4,
 "nbformat_minor": 2
}
